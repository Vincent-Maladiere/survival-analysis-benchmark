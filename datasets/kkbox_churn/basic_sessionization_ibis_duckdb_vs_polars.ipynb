{
 "cells": [
  {
   "cell_type": "code",
   "execution_count": 1,
   "metadata": {},
   "outputs": [
    {
     "data": {
      "text/plain": [
       "'5.0.0'"
      ]
     },
     "execution_count": 1,
     "metadata": {},
     "output_type": "execute_result"
    }
   ],
   "source": [
    "import ibis\n",
    "from ibis import deferred as c\n",
    "\n",
    "ibis.options.interactive = True\n",
    "ibis.__version__"
   ]
  },
  {
   "cell_type": "code",
   "execution_count": 2,
   "metadata": {},
   "outputs": [
    {
     "data": {
      "text/plain": [
       "'0.7.1'"
      ]
     },
     "execution_count": 2,
     "metadata": {},
     "output_type": "execute_result"
    }
   ],
   "source": [
    "import duckdb\n",
    "\n",
    "duckdb.__version__"
   ]
  },
  {
   "cell_type": "code",
   "execution_count": 3,
   "metadata": {},
   "outputs": [
    {
     "data": {
      "text/html": [
       "<pre style=\"white-space:pre;overflow-x:auto;line-height:normal;font-family:Menlo,'DejaVu Sans Mono',consolas,'Courier New',monospace\">┏━━━━━━━━━━━━━━━━━━━━━━━━━━━━━━━━━━━━━━━━━━━━━━┳━━━━━━━━━━━━━━━━━━━┳━━━━━━━━━━━━━━━━━━━┳━━━━━━━━━━━━━━━━━┳━━━━━━━━━━━━━━━━━━━━┳━━━━━━━━━━━━━━━┳━━━━━━━━━━━━━━━━━━┳━━━━━━━━━━━━━━━━━━━━━━━━┳━━━━━━━━━━━┓\n",
       "┃<span style=\"font-weight: bold\"> msno                                         </span>┃<span style=\"font-weight: bold\"> payment_method_id </span>┃<span style=\"font-weight: bold\"> payment_plan_days </span>┃<span style=\"font-weight: bold\"> plan_list_price </span>┃<span style=\"font-weight: bold\"> actual_amount_paid </span>┃<span style=\"font-weight: bold\"> is_auto_renew </span>┃<span style=\"font-weight: bold\"> transaction_date </span>┃<span style=\"font-weight: bold\"> membership_expire_date </span>┃<span style=\"font-weight: bold\"> is_cancel </span>┃\n",
       "┡━━━━━━━━━━━━━━━━━━━━━━━━━━━━━━━━━━━━━━━━━━━━━━╇━━━━━━━━━━━━━━━━━━━╇━━━━━━━━━━━━━━━━━━━╇━━━━━━━━━━━━━━━━━╇━━━━━━━━━━━━━━━━━━━━╇━━━━━━━━━━━━━━━╇━━━━━━━━━━━━━━━━━━╇━━━━━━━━━━━━━━━━━━━━━━━━╇━━━━━━━━━━━┩\n",
       "│ <span style=\"color: #7f7f7f; text-decoration-color: #7f7f7f\">string</span>                                       │ <span style=\"color: #7f7f7f; text-decoration-color: #7f7f7f\">int32</span>             │ <span style=\"color: #7f7f7f; text-decoration-color: #7f7f7f\">int32</span>             │ <span style=\"color: #7f7f7f; text-decoration-color: #7f7f7f\">int32</span>           │ <span style=\"color: #7f7f7f; text-decoration-color: #7f7f7f\">int32</span>              │ <span style=\"color: #7f7f7f; text-decoration-color: #7f7f7f\">boolean</span>       │ <span style=\"color: #7f7f7f; text-decoration-color: #7f7f7f\">date</span>             │ <span style=\"color: #7f7f7f; text-decoration-color: #7f7f7f\">date</span>                   │ <span style=\"color: #7f7f7f; text-decoration-color: #7f7f7f\">boolean</span>   │\n",
       "├──────────────────────────────────────────────┼───────────────────┼───────────────────┼─────────────────┼────────────────────┼───────────────┼──────────────────┼────────────────────────┼───────────┤\n",
       "│ <span style=\"color: #008000; text-decoration-color: #008000\">YyO+tlZtAXYXoZhNr3Vg3+dfVQvrBVGO8j1mfqe4ZHc=</span> │                <span style=\"color: #008080; text-decoration-color: #008080; font-weight: bold\">41</span> │                <span style=\"color: #008080; text-decoration-color: #008080; font-weight: bold\">30</span> │             <span style=\"color: #008080; text-decoration-color: #008080; font-weight: bold\">129</span> │                <span style=\"color: #008080; text-decoration-color: #008080; font-weight: bold\">129</span> │ True          │ <span style=\"color: #800080; text-decoration-color: #800080\">2015-09-30</span>       │ <span style=\"color: #800080; text-decoration-color: #800080\">2015-11-01</span>             │ False     │\n",
       "│ <span style=\"color: #008000; text-decoration-color: #008000\">AZtu6Wl0gPojrEQYB8Q3vBSmE2wnZ3hi1FbK1rQQ0A4=</span> │                <span style=\"color: #008080; text-decoration-color: #008080; font-weight: bold\">41</span> │                <span style=\"color: #008080; text-decoration-color: #008080; font-weight: bold\">30</span> │             <span style=\"color: #008080; text-decoration-color: #008080; font-weight: bold\">149</span> │                <span style=\"color: #008080; text-decoration-color: #008080; font-weight: bold\">149</span> │ True          │ <span style=\"color: #800080; text-decoration-color: #800080\">2015-09-30</span>       │ <span style=\"color: #800080; text-decoration-color: #800080\">2015-10-31</span>             │ False     │\n",
       "│ <span style=\"color: #008000; text-decoration-color: #008000\">UkDFI97Qb6+s2LWcijVVv4rMAsORbVDT2wNXF0aVbns=</span> │                <span style=\"color: #008080; text-decoration-color: #008080; font-weight: bold\">41</span> │                <span style=\"color: #008080; text-decoration-color: #008080; font-weight: bold\">30</span> │             <span style=\"color: #008080; text-decoration-color: #008080; font-weight: bold\">129</span> │                <span style=\"color: #008080; text-decoration-color: #008080; font-weight: bold\">129</span> │ True          │ <span style=\"color: #800080; text-decoration-color: #800080\">2015-09-30</span>       │ <span style=\"color: #800080; text-decoration-color: #800080\">2016-04-27</span>             │ False     │\n",
       "│ <span style=\"color: #008000; text-decoration-color: #008000\">M1C56ijxozNaGD0t2h68PnH2xtx5iO5iR2MVYQB6nBI=</span> │                <span style=\"color: #008080; text-decoration-color: #008080; font-weight: bold\">39</span> │                <span style=\"color: #008080; text-decoration-color: #008080; font-weight: bold\">30</span> │             <span style=\"color: #008080; text-decoration-color: #008080; font-weight: bold\">149</span> │                <span style=\"color: #008080; text-decoration-color: #008080; font-weight: bold\">149</span> │ True          │ <span style=\"color: #800080; text-decoration-color: #800080\">2015-09-30</span>       │ <span style=\"color: #800080; text-decoration-color: #800080\">2015-11-28</span>             │ False     │\n",
       "│ <span style=\"color: #008000; text-decoration-color: #008000\">yvj6zyBUaqdbUQSrKsrZ+xNDVM62knauSZJzakS9OW4=</span> │                <span style=\"color: #008080; text-decoration-color: #008080; font-weight: bold\">39</span> │                <span style=\"color: #008080; text-decoration-color: #008080; font-weight: bold\">30</span> │             <span style=\"color: #008080; text-decoration-color: #008080; font-weight: bold\">149</span> │                <span style=\"color: #008080; text-decoration-color: #008080; font-weight: bold\">149</span> │ True          │ <span style=\"color: #800080; text-decoration-color: #800080\">2015-09-30</span>       │ <span style=\"color: #800080; text-decoration-color: #800080\">2015-11-21</span>             │ False     │\n",
       "│ <span style=\"color: #008000; text-decoration-color: #008000\">KN7I82kjY0Tn76Ny95ncqBUVbO7b8AXrOPqZutKpxIM=</span> │                <span style=\"color: #008080; text-decoration-color: #008080; font-weight: bold\">21</span> │                <span style=\"color: #008080; text-decoration-color: #008080; font-weight: bold\">30</span> │             <span style=\"color: #008080; text-decoration-color: #008080; font-weight: bold\">149</span> │                <span style=\"color: #008080; text-decoration-color: #008080; font-weight: bold\">149</span> │ True          │ <span style=\"color: #800080; text-decoration-color: #800080\">2015-09-30</span>       │ <span style=\"color: #800080; text-decoration-color: #800080\">2015-11-07</span>             │ False     │\n",
       "│ <span style=\"color: #008000; text-decoration-color: #008000\">m5ptKif9BjdUghHXXomSezy5ohJiHm85PE13f/3kQaw=</span> │                <span style=\"color: #008080; text-decoration-color: #008080; font-weight: bold\">39</span> │                <span style=\"color: #008080; text-decoration-color: #008080; font-weight: bold\">30</span> │             <span style=\"color: #008080; text-decoration-color: #008080; font-weight: bold\">149</span> │                <span style=\"color: #008080; text-decoration-color: #008080; font-weight: bold\">149</span> │ True          │ <span style=\"color: #800080; text-decoration-color: #800080\">2015-09-30</span>       │ <span style=\"color: #800080; text-decoration-color: #800080\">2015-11-28</span>             │ False     │\n",
       "│ <span style=\"color: #008000; text-decoration-color: #008000\">uQxbyACsPOEkTIrv9jZgoGXelGBW81ZsSZKy9fhj5Z8=</span> │                <span style=\"color: #008080; text-decoration-color: #008080; font-weight: bold\">39</span> │                <span style=\"color: #008080; text-decoration-color: #008080; font-weight: bold\">30</span> │             <span style=\"color: #008080; text-decoration-color: #008080; font-weight: bold\">149</span> │                <span style=\"color: #008080; text-decoration-color: #008080; font-weight: bold\">149</span> │ True          │ <span style=\"color: #800080; text-decoration-color: #800080\">2015-09-30</span>       │ <span style=\"color: #800080; text-decoration-color: #800080\">2015-11-25</span>             │ False     │\n",
       "│ <span style=\"color: #008000; text-decoration-color: #008000\">LUPRfoE2r3WwVWhYO/TqQhjrL/qP6CO+/ORUlr7yNc0=</span> │                <span style=\"color: #008080; text-decoration-color: #008080; font-weight: bold\">39</span> │                <span style=\"color: #008080; text-decoration-color: #008080; font-weight: bold\">30</span> │             <span style=\"color: #008080; text-decoration-color: #008080; font-weight: bold\">149</span> │                <span style=\"color: #008080; text-decoration-color: #008080; font-weight: bold\">149</span> │ True          │ <span style=\"color: #800080; text-decoration-color: #800080\">2015-09-30</span>       │ <span style=\"color: #800080; text-decoration-color: #800080\">2015-12-22</span>             │ False     │\n",
       "│ <span style=\"color: #008000; text-decoration-color: #008000\">pMVjPLgVknaJYm9L0xUwxA2jmhpK7gfhGnsmmwX1mrE=</span> │                <span style=\"color: #008080; text-decoration-color: #008080; font-weight: bold\">39</span> │                <span style=\"color: #008080; text-decoration-color: #008080; font-weight: bold\">30</span> │             <span style=\"color: #008080; text-decoration-color: #008080; font-weight: bold\">149</span> │                <span style=\"color: #008080; text-decoration-color: #008080; font-weight: bold\">149</span> │ True          │ <span style=\"color: #800080; text-decoration-color: #800080\">2015-09-30</span>       │ <span style=\"color: #800080; text-decoration-color: #800080\">2015-11-18</span>             │ False     │\n",
       "│ <span style=\"color: #7f7f7f; text-decoration-color: #7f7f7f\">…</span>                                            │                 <span style=\"color: #7f7f7f; text-decoration-color: #7f7f7f\">…</span> │                 <span style=\"color: #7f7f7f; text-decoration-color: #7f7f7f\">…</span> │               <span style=\"color: #7f7f7f; text-decoration-color: #7f7f7f\">…</span> │                  <span style=\"color: #7f7f7f; text-decoration-color: #7f7f7f\">…</span> │ <span style=\"color: #7f7f7f; text-decoration-color: #7f7f7f\">…</span>             │ <span style=\"color: #7f7f7f; text-decoration-color: #7f7f7f\">…</span>                │ <span style=\"color: #7f7f7f; text-decoration-color: #7f7f7f\">…</span>                      │ <span style=\"color: #7f7f7f; text-decoration-color: #7f7f7f\">…</span>         │\n",
       "└──────────────────────────────────────────────┴───────────────────┴───────────────────┴─────────────────┴────────────────────┴───────────────┴──────────────────┴────────────────────────┴───────────┘\n",
       "</pre>\n"
      ],
      "text/plain": [
       "┏━━━━━━━━━━━━━━━━━━━━━━━━━━━━━━━━━━━━━━━━━━━━━━┳━━━━━━━━━━━━━━━━━━━┳━━━━━━━━━━━━━━━━━━━┳━━━━━━━━━━━━━━━━━┳━━━━━━━━━━━━━━━━━━━━┳━━━━━━━━━━━━━━━┳━━━━━━━━━━━━━━━━━━┳━━━━━━━━━━━━━━━━━━━━━━━━┳━━━━━━━━━━━┓\n",
       "┃\u001b[1m \u001b[0m\u001b[1mmsno\u001b[0m\u001b[1m                                        \u001b[0m\u001b[1m \u001b[0m┃\u001b[1m \u001b[0m\u001b[1mpayment_method_id\u001b[0m\u001b[1m \u001b[0m┃\u001b[1m \u001b[0m\u001b[1mpayment_plan_days\u001b[0m\u001b[1m \u001b[0m┃\u001b[1m \u001b[0m\u001b[1mplan_list_price\u001b[0m\u001b[1m \u001b[0m┃\u001b[1m \u001b[0m\u001b[1mactual_amount_paid\u001b[0m\u001b[1m \u001b[0m┃\u001b[1m \u001b[0m\u001b[1mis_auto_renew\u001b[0m\u001b[1m \u001b[0m┃\u001b[1m \u001b[0m\u001b[1mtransaction_date\u001b[0m\u001b[1m \u001b[0m┃\u001b[1m \u001b[0m\u001b[1mmembership_expire_date\u001b[0m\u001b[1m \u001b[0m┃\u001b[1m \u001b[0m\u001b[1mis_cancel\u001b[0m\u001b[1m \u001b[0m┃\n",
       "┡━━━━━━━━━━━━━━━━━━━━━━━━━━━━━━━━━━━━━━━━━━━━━━╇━━━━━━━━━━━━━━━━━━━╇━━━━━━━━━━━━━━━━━━━╇━━━━━━━━━━━━━━━━━╇━━━━━━━━━━━━━━━━━━━━╇━━━━━━━━━━━━━━━╇━━━━━━━━━━━━━━━━━━╇━━━━━━━━━━━━━━━━━━━━━━━━╇━━━━━━━━━━━┩\n",
       "│ \u001b[2mstring\u001b[0m                                       │ \u001b[2mint32\u001b[0m             │ \u001b[2mint32\u001b[0m             │ \u001b[2mint32\u001b[0m           │ \u001b[2mint32\u001b[0m              │ \u001b[2mboolean\u001b[0m       │ \u001b[2mdate\u001b[0m             │ \u001b[2mdate\u001b[0m                   │ \u001b[2mboolean\u001b[0m   │\n",
       "├──────────────────────────────────────────────┼───────────────────┼───────────────────┼─────────────────┼────────────────────┼───────────────┼──────────────────┼────────────────────────┼───────────┤\n",
       "│ \u001b[32mYyO+tlZtAXYXoZhNr3Vg3+dfVQvrBVGO8j1mfqe4ZHc=\u001b[0m │                \u001b[1;36m41\u001b[0m │                \u001b[1;36m30\u001b[0m │             \u001b[1;36m129\u001b[0m │                \u001b[1;36m129\u001b[0m │ True          │ \u001b[35m2015-09-30\u001b[0m       │ \u001b[35m2015-11-01\u001b[0m             │ False     │\n",
       "│ \u001b[32mAZtu6Wl0gPojrEQYB8Q3vBSmE2wnZ3hi1FbK1rQQ0A4=\u001b[0m │                \u001b[1;36m41\u001b[0m │                \u001b[1;36m30\u001b[0m │             \u001b[1;36m149\u001b[0m │                \u001b[1;36m149\u001b[0m │ True          │ \u001b[35m2015-09-30\u001b[0m       │ \u001b[35m2015-10-31\u001b[0m             │ False     │\n",
       "│ \u001b[32mUkDFI97Qb6+s2LWcijVVv4rMAsORbVDT2wNXF0aVbns=\u001b[0m │                \u001b[1;36m41\u001b[0m │                \u001b[1;36m30\u001b[0m │             \u001b[1;36m129\u001b[0m │                \u001b[1;36m129\u001b[0m │ True          │ \u001b[35m2015-09-30\u001b[0m       │ \u001b[35m2016-04-27\u001b[0m             │ False     │\n",
       "│ \u001b[32mM1C56ijxozNaGD0t2h68PnH2xtx5iO5iR2MVYQB6nBI=\u001b[0m │                \u001b[1;36m39\u001b[0m │                \u001b[1;36m30\u001b[0m │             \u001b[1;36m149\u001b[0m │                \u001b[1;36m149\u001b[0m │ True          │ \u001b[35m2015-09-30\u001b[0m       │ \u001b[35m2015-11-28\u001b[0m             │ False     │\n",
       "│ \u001b[32myvj6zyBUaqdbUQSrKsrZ+xNDVM62knauSZJzakS9OW4=\u001b[0m │                \u001b[1;36m39\u001b[0m │                \u001b[1;36m30\u001b[0m │             \u001b[1;36m149\u001b[0m │                \u001b[1;36m149\u001b[0m │ True          │ \u001b[35m2015-09-30\u001b[0m       │ \u001b[35m2015-11-21\u001b[0m             │ False     │\n",
       "│ \u001b[32mKN7I82kjY0Tn76Ny95ncqBUVbO7b8AXrOPqZutKpxIM=\u001b[0m │                \u001b[1;36m21\u001b[0m │                \u001b[1;36m30\u001b[0m │             \u001b[1;36m149\u001b[0m │                \u001b[1;36m149\u001b[0m │ True          │ \u001b[35m2015-09-30\u001b[0m       │ \u001b[35m2015-11-07\u001b[0m             │ False     │\n",
       "│ \u001b[32mm5ptKif9BjdUghHXXomSezy5ohJiHm85PE13f/3kQaw=\u001b[0m │                \u001b[1;36m39\u001b[0m │                \u001b[1;36m30\u001b[0m │             \u001b[1;36m149\u001b[0m │                \u001b[1;36m149\u001b[0m │ True          │ \u001b[35m2015-09-30\u001b[0m       │ \u001b[35m2015-11-28\u001b[0m             │ False     │\n",
       "│ \u001b[32muQxbyACsPOEkTIrv9jZgoGXelGBW81ZsSZKy9fhj5Z8=\u001b[0m │                \u001b[1;36m39\u001b[0m │                \u001b[1;36m30\u001b[0m │             \u001b[1;36m149\u001b[0m │                \u001b[1;36m149\u001b[0m │ True          │ \u001b[35m2015-09-30\u001b[0m       │ \u001b[35m2015-11-25\u001b[0m             │ False     │\n",
       "│ \u001b[32mLUPRfoE2r3WwVWhYO/TqQhjrL/qP6CO+/ORUlr7yNc0=\u001b[0m │                \u001b[1;36m39\u001b[0m │                \u001b[1;36m30\u001b[0m │             \u001b[1;36m149\u001b[0m │                \u001b[1;36m149\u001b[0m │ True          │ \u001b[35m2015-09-30\u001b[0m       │ \u001b[35m2015-12-22\u001b[0m             │ False     │\n",
       "│ \u001b[32mpMVjPLgVknaJYm9L0xUwxA2jmhpK7gfhGnsmmwX1mrE=\u001b[0m │                \u001b[1;36m39\u001b[0m │                \u001b[1;36m30\u001b[0m │             \u001b[1;36m149\u001b[0m │                \u001b[1;36m149\u001b[0m │ True          │ \u001b[35m2015-09-30\u001b[0m       │ \u001b[35m2015-11-18\u001b[0m             │ False     │\n",
       "│ \u001b[2m…\u001b[0m                                            │                 \u001b[2m…\u001b[0m │                 \u001b[2m…\u001b[0m │               \u001b[2m…\u001b[0m │                  \u001b[2m…\u001b[0m │ \u001b[2m…\u001b[0m             │ \u001b[2m…\u001b[0m                │ \u001b[2m…\u001b[0m                      │ \u001b[2m…\u001b[0m         │\n",
       "└──────────────────────────────────────────────┴───────────────────┴───────────────────┴─────────────────┴────────────────────┴───────────────┴──────────────────┴────────────────────────┴───────────┘"
      ]
     },
     "execution_count": 3,
     "metadata": {},
     "output_type": "execute_result"
    }
   ],
   "source": [
    "duckdb_in_mem_conn = ibis.duckdb.connect()\n",
    "transactions = duckdb_in_mem_conn.read_parquet(\"transactions.parquet\")\n",
    "transactions"
   ]
  },
  {
   "cell_type": "code",
   "execution_count": 4,
   "metadata": {},
   "outputs": [
    {
     "data": {
      "text/plain": [
       "21.547746"
      ]
     },
     "execution_count": 4,
     "metadata": {},
     "output_type": "execute_result"
    }
   ],
   "source": [
    "transactions.count().execute() / 1e6"
   ]
  },
  {
   "cell_type": "code",
   "execution_count": 5,
   "metadata": {},
   "outputs": [
    {
     "data": {
      "text/html": [
       "<pre style=\"white-space:pre;overflow-x:auto;line-height:normal;font-family:Menlo,'DejaVu Sans Mono',consolas,'Courier New',monospace\">┏━━━━━━━━━━━━━━━━━━━━━━━━━━━━━━━━━━━━━━━━━━━━━━┳━━━━━━━━━━━━━━━━━━┳━━━━━━━━━━━━━━━┓\n",
       "┃<span style=\"font-weight: bold\"> msno                                         </span>┃<span style=\"font-weight: bold\"> transaction_date </span>┃<span style=\"font-weight: bold\"> deadline_date </span>┃\n",
       "┡━━━━━━━━━━━━━━━━━━━━━━━━━━━━━━━━━━━━━━━━━━━━━━╇━━━━━━━━━━━━━━━━━━╇━━━━━━━━━━━━━━━┩\n",
       "│ <span style=\"color: #7f7f7f; text-decoration-color: #7f7f7f\">string</span>                                       │ <span style=\"color: #7f7f7f; text-decoration-color: #7f7f7f\">date</span>             │ <span style=\"color: #7f7f7f; text-decoration-color: #7f7f7f\">date</span>          │\n",
       "├──────────────────────────────────────────────┼──────────────────┼───────────────┤\n",
       "│ <span style=\"color: #008000; text-decoration-color: #008000\">++E1waHrjSGFrLK4FgYHlaQgZ22Fn2fuoc929CTPtlA=</span> │ <span style=\"color: #800080; text-decoration-color: #800080\">2015-01-08</span>       │ <span style=\"color: #7f7f7f; text-decoration-color: #7f7f7f\">NULL</span>          │\n",
       "│ <span style=\"color: #008000; text-decoration-color: #008000\">++E1waHrjSGFrLK4FgYHlaQgZ22Fn2fuoc929CTPtlA=</span> │ <span style=\"color: #800080; text-decoration-color: #800080\">2015-01-11</span>       │ <span style=\"color: #800080; text-decoration-color: #800080\">2015-03-09</span>    │\n",
       "│ <span style=\"color: #008000; text-decoration-color: #008000\">++E1waHrjSGFrLK4FgYHlaQgZ22Fn2fuoc929CTPtlA=</span> │ <span style=\"color: #800080; text-decoration-color: #800080\">2015-02-08</span>       │ <span style=\"color: #800080; text-decoration-color: #800080\">2015-03-12</span>    │\n",
       "│ <span style=\"color: #008000; text-decoration-color: #008000\">++E1waHrjSGFrLK4FgYHlaQgZ22Fn2fuoc929CTPtlA=</span> │ <span style=\"color: #800080; text-decoration-color: #800080\">2015-08-03</span>       │ <span style=\"color: #800080; text-decoration-color: #800080\">2015-04-09</span>    │\n",
       "│ <span style=\"color: #008000; text-decoration-color: #008000\">++E1waHrjSGFrLK4FgYHlaQgZ22Fn2fuoc929CTPtlA=</span> │ <span style=\"color: #800080; text-decoration-color: #800080\">2016-06-27</span>       │ <span style=\"color: #800080; text-decoration-color: #800080\">2015-10-02</span>    │\n",
       "│ <span style=\"color: #008000; text-decoration-color: #008000\">++LZCSayFiyIn1KEg/55c4H2E05Ml8garpShWIvPy6c=</span> │ <span style=\"color: #800080; text-decoration-color: #800080\">2016-10-27</span>       │ <span style=\"color: #7f7f7f; text-decoration-color: #7f7f7f\">NULL</span>          │\n",
       "│ <span style=\"color: #008000; text-decoration-color: #008000\">++ThL3xccp97rzylqtkrdJpziI4FehGtzNdAtcHlUo4=</span> │ <span style=\"color: #800080; text-decoration-color: #800080\">2015-06-08</span>       │ <span style=\"color: #7f7f7f; text-decoration-color: #7f7f7f\">NULL</span>          │\n",
       "│ <span style=\"color: #008000; text-decoration-color: #008000\">++Yw58Kbsb6lxxkqxEaMZFCiAAEnmmNy90SYjIi5vVU=</span> │ <span style=\"color: #800080; text-decoration-color: #800080\">2015-01-26</span>       │ <span style=\"color: #7f7f7f; text-decoration-color: #7f7f7f\">NULL</span>          │\n",
       "│ <span style=\"color: #008000; text-decoration-color: #008000\">++Yw58Kbsb6lxxkqxEaMZFCiAAEnmmNy90SYjIi5vVU=</span> │ <span style=\"color: #800080; text-decoration-color: #800080\">2015-02-26</span>       │ <span style=\"color: #800080; text-decoration-color: #800080\">2015-03-27</span>    │\n",
       "│ <span style=\"color: #008000; text-decoration-color: #008000\">++Yw58Kbsb6lxxkqxEaMZFCiAAEnmmNy90SYjIi5vVU=</span> │ <span style=\"color: #800080; text-decoration-color: #800080\">2015-03-26</span>       │ <span style=\"color: #800080; text-decoration-color: #800080\">2015-04-27</span>    │\n",
       "│ <span style=\"color: #7f7f7f; text-decoration-color: #7f7f7f\">…</span>                                            │ <span style=\"color: #7f7f7f; text-decoration-color: #7f7f7f\">…</span>                │ <span style=\"color: #7f7f7f; text-decoration-color: #7f7f7f\">…</span>             │\n",
       "└──────────────────────────────────────────────┴──────────────────┴───────────────┘\n",
       "</pre>\n"
      ],
      "text/plain": [
       "┏━━━━━━━━━━━━━━━━━━━━━━━━━━━━━━━━━━━━━━━━━━━━━━┳━━━━━━━━━━━━━━━━━━┳━━━━━━━━━━━━━━━┓\n",
       "┃\u001b[1m \u001b[0m\u001b[1mmsno\u001b[0m\u001b[1m                                        \u001b[0m\u001b[1m \u001b[0m┃\u001b[1m \u001b[0m\u001b[1mtransaction_date\u001b[0m\u001b[1m \u001b[0m┃\u001b[1m \u001b[0m\u001b[1mdeadline_date\u001b[0m\u001b[1m \u001b[0m┃\n",
       "┡━━━━━━━━━━━━━━━━━━━━━━━━━━━━━━━━━━━━━━━━━━━━━━╇━━━━━━━━━━━━━━━━━━╇━━━━━━━━━━━━━━━┩\n",
       "│ \u001b[2mstring\u001b[0m                                       │ \u001b[2mdate\u001b[0m             │ \u001b[2mdate\u001b[0m          │\n",
       "├──────────────────────────────────────────────┼──────────────────┼───────────────┤\n",
       "│ \u001b[32m++E1waHrjSGFrLK4FgYHlaQgZ22Fn2fuoc929CTPtlA=\u001b[0m │ \u001b[35m2015-01-08\u001b[0m       │ \u001b[2mNULL\u001b[0m          │\n",
       "│ \u001b[32m++E1waHrjSGFrLK4FgYHlaQgZ22Fn2fuoc929CTPtlA=\u001b[0m │ \u001b[35m2015-01-11\u001b[0m       │ \u001b[35m2015-03-09\u001b[0m    │\n",
       "│ \u001b[32m++E1waHrjSGFrLK4FgYHlaQgZ22Fn2fuoc929CTPtlA=\u001b[0m │ \u001b[35m2015-02-08\u001b[0m       │ \u001b[35m2015-03-12\u001b[0m    │\n",
       "│ \u001b[32m++E1waHrjSGFrLK4FgYHlaQgZ22Fn2fuoc929CTPtlA=\u001b[0m │ \u001b[35m2015-08-03\u001b[0m       │ \u001b[35m2015-04-09\u001b[0m    │\n",
       "│ \u001b[32m++E1waHrjSGFrLK4FgYHlaQgZ22Fn2fuoc929CTPtlA=\u001b[0m │ \u001b[35m2016-06-27\u001b[0m       │ \u001b[35m2015-10-02\u001b[0m    │\n",
       "│ \u001b[32m++LZCSayFiyIn1KEg/55c4H2E05Ml8garpShWIvPy6c=\u001b[0m │ \u001b[35m2016-10-27\u001b[0m       │ \u001b[2mNULL\u001b[0m          │\n",
       "│ \u001b[32m++ThL3xccp97rzylqtkrdJpziI4FehGtzNdAtcHlUo4=\u001b[0m │ \u001b[35m2015-06-08\u001b[0m       │ \u001b[2mNULL\u001b[0m          │\n",
       "│ \u001b[32m++Yw58Kbsb6lxxkqxEaMZFCiAAEnmmNy90SYjIi5vVU=\u001b[0m │ \u001b[35m2015-01-26\u001b[0m       │ \u001b[2mNULL\u001b[0m          │\n",
       "│ \u001b[32m++Yw58Kbsb6lxxkqxEaMZFCiAAEnmmNy90SYjIi5vVU=\u001b[0m │ \u001b[35m2015-02-26\u001b[0m       │ \u001b[35m2015-03-27\u001b[0m    │\n",
       "│ \u001b[32m++Yw58Kbsb6lxxkqxEaMZFCiAAEnmmNy90SYjIi5vVU=\u001b[0m │ \u001b[35m2015-03-26\u001b[0m       │ \u001b[35m2015-04-27\u001b[0m    │\n",
       "│ \u001b[2m…\u001b[0m                                            │ \u001b[2m…\u001b[0m                │ \u001b[2m…\u001b[0m             │\n",
       "└──────────────────────────────────────────────┴──────────────────┴───────────────┘"
      ]
     },
     "execution_count": 5,
     "metadata": {},
     "output_type": "execute_result"
    }
   ],
   "source": [
    "entity_window = ibis.cumulative_window(\n",
    "    group_by=c.msno, order_by=c.transaction_date\n",
    ")\n",
    "threshold = ibis.interval(days=60)\n",
    "deadline_date = c.transaction_date.lag().over(entity_window) + threshold\n",
    "\n",
    "(\n",
    "    transactions\n",
    "    .select([c.msno, c.transaction_date])\n",
    "    .mutate(deadline_date=deadline_date)\n",
    ")"
   ]
  },
  {
   "cell_type": "code",
   "execution_count": 6,
   "metadata": {},
   "outputs": [
    {
     "data": {
      "text/html": [
       "<pre style=\"white-space:pre;overflow-x:auto;line-height:normal;font-family:Menlo,'DejaVu Sans Mono',consolas,'Courier New',monospace\">┏━━━━━━━━━━━━━━━━━━━━━━━━━━━━━━━━━━━━━━━━━━━━━━┳━━━━━━━━━━━━━━━━━━┳━━━━━━━━━━━━━━━━┓\n",
       "┃<span style=\"font-weight: bold\"> msno                                         </span>┃<span style=\"font-weight: bold\"> transaction_date </span>┃<span style=\"font-weight: bold\"> is_new_session </span>┃\n",
       "┡━━━━━━━━━━━━━━━━━━━━━━━━━━━━━━━━━━━━━━━━━━━━━━╇━━━━━━━━━━━━━━━━━━╇━━━━━━━━━━━━━━━━┩\n",
       "│ <span style=\"color: #7f7f7f; text-decoration-color: #7f7f7f\">string</span>                                       │ <span style=\"color: #7f7f7f; text-decoration-color: #7f7f7f\">date</span>             │ <span style=\"color: #7f7f7f; text-decoration-color: #7f7f7f\">boolean</span>        │\n",
       "├──────────────────────────────────────────────┼──────────────────┼────────────────┤\n",
       "│ <span style=\"color: #008000; text-decoration-color: #008000\">++E1waHrjSGFrLK4FgYHlaQgZ22Fn2fuoc929CTPtlA=</span> │ <span style=\"color: #800080; text-decoration-color: #800080\">2015-01-08</span>       │ False          │\n",
       "│ <span style=\"color: #008000; text-decoration-color: #008000\">++E1waHrjSGFrLK4FgYHlaQgZ22Fn2fuoc929CTPtlA=</span> │ <span style=\"color: #800080; text-decoration-color: #800080\">2015-01-11</span>       │ False          │\n",
       "│ <span style=\"color: #008000; text-decoration-color: #008000\">++E1waHrjSGFrLK4FgYHlaQgZ22Fn2fuoc929CTPtlA=</span> │ <span style=\"color: #800080; text-decoration-color: #800080\">2015-02-08</span>       │ False          │\n",
       "│ <span style=\"color: #008000; text-decoration-color: #008000\">++E1waHrjSGFrLK4FgYHlaQgZ22Fn2fuoc929CTPtlA=</span> │ <span style=\"color: #800080; text-decoration-color: #800080\">2015-08-03</span>       │ True           │\n",
       "│ <span style=\"color: #008000; text-decoration-color: #008000\">++E1waHrjSGFrLK4FgYHlaQgZ22Fn2fuoc929CTPtlA=</span> │ <span style=\"color: #800080; text-decoration-color: #800080\">2016-06-27</span>       │ True           │\n",
       "│ <span style=\"color: #008000; text-decoration-color: #008000\">++LZCSayFiyIn1KEg/55c4H2E05Ml8garpShWIvPy6c=</span> │ <span style=\"color: #800080; text-decoration-color: #800080\">2016-10-27</span>       │ False          │\n",
       "│ <span style=\"color: #008000; text-decoration-color: #008000\">++ThL3xccp97rzylqtkrdJpziI4FehGtzNdAtcHlUo4=</span> │ <span style=\"color: #800080; text-decoration-color: #800080\">2015-06-08</span>       │ False          │\n",
       "│ <span style=\"color: #008000; text-decoration-color: #008000\">++Yw58Kbsb6lxxkqxEaMZFCiAAEnmmNy90SYjIi5vVU=</span> │ <span style=\"color: #800080; text-decoration-color: #800080\">2015-01-26</span>       │ False          │\n",
       "│ <span style=\"color: #008000; text-decoration-color: #008000\">++Yw58Kbsb6lxxkqxEaMZFCiAAEnmmNy90SYjIi5vVU=</span> │ <span style=\"color: #800080; text-decoration-color: #800080\">2015-02-26</span>       │ False          │\n",
       "│ <span style=\"color: #008000; text-decoration-color: #008000\">++Yw58Kbsb6lxxkqxEaMZFCiAAEnmmNy90SYjIi5vVU=</span> │ <span style=\"color: #800080; text-decoration-color: #800080\">2015-03-26</span>       │ False          │\n",
       "│ <span style=\"color: #7f7f7f; text-decoration-color: #7f7f7f\">…</span>                                            │ <span style=\"color: #7f7f7f; text-decoration-color: #7f7f7f\">…</span>                │ <span style=\"color: #7f7f7f; text-decoration-color: #7f7f7f\">…</span>              │\n",
       "└──────────────────────────────────────────────┴──────────────────┴────────────────┘\n",
       "</pre>\n"
      ],
      "text/plain": [
       "┏━━━━━━━━━━━━━━━━━━━━━━━━━━━━━━━━━━━━━━━━━━━━━━┳━━━━━━━━━━━━━━━━━━┳━━━━━━━━━━━━━━━━┓\n",
       "┃\u001b[1m \u001b[0m\u001b[1mmsno\u001b[0m\u001b[1m                                        \u001b[0m\u001b[1m \u001b[0m┃\u001b[1m \u001b[0m\u001b[1mtransaction_date\u001b[0m\u001b[1m \u001b[0m┃\u001b[1m \u001b[0m\u001b[1mis_new_session\u001b[0m\u001b[1m \u001b[0m┃\n",
       "┡━━━━━━━━━━━━━━━━━━━━━━━━━━━━━━━━━━━━━━━━━━━━━━╇━━━━━━━━━━━━━━━━━━╇━━━━━━━━━━━━━━━━┩\n",
       "│ \u001b[2mstring\u001b[0m                                       │ \u001b[2mdate\u001b[0m             │ \u001b[2mboolean\u001b[0m        │\n",
       "├──────────────────────────────────────────────┼──────────────────┼────────────────┤\n",
       "│ \u001b[32m++E1waHrjSGFrLK4FgYHlaQgZ22Fn2fuoc929CTPtlA=\u001b[0m │ \u001b[35m2015-01-08\u001b[0m       │ False          │\n",
       "│ \u001b[32m++E1waHrjSGFrLK4FgYHlaQgZ22Fn2fuoc929CTPtlA=\u001b[0m │ \u001b[35m2015-01-11\u001b[0m       │ False          │\n",
       "│ \u001b[32m++E1waHrjSGFrLK4FgYHlaQgZ22Fn2fuoc929CTPtlA=\u001b[0m │ \u001b[35m2015-02-08\u001b[0m       │ False          │\n",
       "│ \u001b[32m++E1waHrjSGFrLK4FgYHlaQgZ22Fn2fuoc929CTPtlA=\u001b[0m │ \u001b[35m2015-08-03\u001b[0m       │ True           │\n",
       "│ \u001b[32m++E1waHrjSGFrLK4FgYHlaQgZ22Fn2fuoc929CTPtlA=\u001b[0m │ \u001b[35m2016-06-27\u001b[0m       │ True           │\n",
       "│ \u001b[32m++LZCSayFiyIn1KEg/55c4H2E05Ml8garpShWIvPy6c=\u001b[0m │ \u001b[35m2016-10-27\u001b[0m       │ False          │\n",
       "│ \u001b[32m++ThL3xccp97rzylqtkrdJpziI4FehGtzNdAtcHlUo4=\u001b[0m │ \u001b[35m2015-06-08\u001b[0m       │ False          │\n",
       "│ \u001b[32m++Yw58Kbsb6lxxkqxEaMZFCiAAEnmmNy90SYjIi5vVU=\u001b[0m │ \u001b[35m2015-01-26\u001b[0m       │ False          │\n",
       "│ \u001b[32m++Yw58Kbsb6lxxkqxEaMZFCiAAEnmmNy90SYjIi5vVU=\u001b[0m │ \u001b[35m2015-02-26\u001b[0m       │ False          │\n",
       "│ \u001b[32m++Yw58Kbsb6lxxkqxEaMZFCiAAEnmmNy90SYjIi5vVU=\u001b[0m │ \u001b[35m2015-03-26\u001b[0m       │ False          │\n",
       "│ \u001b[2m…\u001b[0m                                            │ \u001b[2m…\u001b[0m                │ \u001b[2m…\u001b[0m              │\n",
       "└──────────────────────────────────────────────┴──────────────────┴────────────────┘"
      ]
     },
     "execution_count": 6,
     "metadata": {},
     "output_type": "execute_result"
    }
   ],
   "source": [
    "(\n",
    "    transactions\n",
    "    .select([c.msno, c.transaction_date])\n",
    "    .mutate(\n",
    "        is_new_session=(c.transaction_date > deadline_date).fillna(False)\n",
    "    )\n",
    ")"
   ]
  },
  {
   "cell_type": "code",
   "execution_count": 7,
   "metadata": {},
   "outputs": [
    {
     "data": {
      "text/html": [
       "<pre style=\"white-space:pre;overflow-x:auto;line-height:normal;font-family:Menlo,'DejaVu Sans Mono',consolas,'Courier New',monospace\">┏━━━━━━━━━━━━━━━━━━━━━━━━━━━━━━━━━━━━━━━━━━━━━━┳━━━━━━━━━━━━━━━━━━┳━━━━━━━━━━━━━━━━┳━━━━━━━━━━━━┓\n",
       "┃<span style=\"font-weight: bold\"> msno                                         </span>┃<span style=\"font-weight: bold\"> transaction_date </span>┃<span style=\"font-weight: bold\"> is_new_session </span>┃<span style=\"font-weight: bold\"> session_id </span>┃\n",
       "┡━━━━━━━━━━━━━━━━━━━━━━━━━━━━━━━━━━━━━━━━━━━━━━╇━━━━━━━━━━━━━━━━━━╇━━━━━━━━━━━━━━━━╇━━━━━━━━━━━━┩\n",
       "│ <span style=\"color: #7f7f7f; text-decoration-color: #7f7f7f\">string</span>                                       │ <span style=\"color: #7f7f7f; text-decoration-color: #7f7f7f\">date</span>             │ <span style=\"color: #7f7f7f; text-decoration-color: #7f7f7f\">boolean</span>        │ <span style=\"color: #7f7f7f; text-decoration-color: #7f7f7f\">int64</span>      │\n",
       "├──────────────────────────────────────────────┼──────────────────┼────────────────┼────────────┤\n",
       "│ <span style=\"color: #008000; text-decoration-color: #008000\">++E1waHrjSGFrLK4FgYHlaQgZ22Fn2fuoc929CTPtlA=</span> │ <span style=\"color: #800080; text-decoration-color: #800080\">2015-01-08</span>       │ False          │          <span style=\"color: #008080; text-decoration-color: #008080; font-weight: bold\">0</span> │\n",
       "│ <span style=\"color: #008000; text-decoration-color: #008000\">++E1waHrjSGFrLK4FgYHlaQgZ22Fn2fuoc929CTPtlA=</span> │ <span style=\"color: #800080; text-decoration-color: #800080\">2015-01-11</span>       │ False          │          <span style=\"color: #008080; text-decoration-color: #008080; font-weight: bold\">0</span> │\n",
       "│ <span style=\"color: #008000; text-decoration-color: #008000\">++E1waHrjSGFrLK4FgYHlaQgZ22Fn2fuoc929CTPtlA=</span> │ <span style=\"color: #800080; text-decoration-color: #800080\">2015-02-08</span>       │ False          │          <span style=\"color: #008080; text-decoration-color: #008080; font-weight: bold\">0</span> │\n",
       "│ <span style=\"color: #008000; text-decoration-color: #008000\">++E1waHrjSGFrLK4FgYHlaQgZ22Fn2fuoc929CTPtlA=</span> │ <span style=\"color: #800080; text-decoration-color: #800080\">2015-08-03</span>       │ True           │          <span style=\"color: #008080; text-decoration-color: #008080; font-weight: bold\">1</span> │\n",
       "│ <span style=\"color: #008000; text-decoration-color: #008000\">++E1waHrjSGFrLK4FgYHlaQgZ22Fn2fuoc929CTPtlA=</span> │ <span style=\"color: #800080; text-decoration-color: #800080\">2016-06-27</span>       │ True           │          <span style=\"color: #008080; text-decoration-color: #008080; font-weight: bold\">2</span> │\n",
       "│ <span style=\"color: #008000; text-decoration-color: #008000\">++LZCSayFiyIn1KEg/55c4H2E05Ml8garpShWIvPy6c=</span> │ <span style=\"color: #800080; text-decoration-color: #800080\">2016-10-27</span>       │ False          │          <span style=\"color: #008080; text-decoration-color: #008080; font-weight: bold\">0</span> │\n",
       "│ <span style=\"color: #008000; text-decoration-color: #008000\">++ThL3xccp97rzylqtkrdJpziI4FehGtzNdAtcHlUo4=</span> │ <span style=\"color: #800080; text-decoration-color: #800080\">2015-06-08</span>       │ False          │          <span style=\"color: #008080; text-decoration-color: #008080; font-weight: bold\">0</span> │\n",
       "│ <span style=\"color: #008000; text-decoration-color: #008000\">++Yw58Kbsb6lxxkqxEaMZFCiAAEnmmNy90SYjIi5vVU=</span> │ <span style=\"color: #800080; text-decoration-color: #800080\">2015-01-26</span>       │ False          │          <span style=\"color: #008080; text-decoration-color: #008080; font-weight: bold\">0</span> │\n",
       "│ <span style=\"color: #008000; text-decoration-color: #008000\">++Yw58Kbsb6lxxkqxEaMZFCiAAEnmmNy90SYjIi5vVU=</span> │ <span style=\"color: #800080; text-decoration-color: #800080\">2015-02-26</span>       │ False          │          <span style=\"color: #008080; text-decoration-color: #008080; font-weight: bold\">0</span> │\n",
       "│ <span style=\"color: #008000; text-decoration-color: #008000\">++Yw58Kbsb6lxxkqxEaMZFCiAAEnmmNy90SYjIi5vVU=</span> │ <span style=\"color: #800080; text-decoration-color: #800080\">2015-03-26</span>       │ False          │          <span style=\"color: #008080; text-decoration-color: #008080; font-weight: bold\">0</span> │\n",
       "│ <span style=\"color: #7f7f7f; text-decoration-color: #7f7f7f\">…</span>                                            │ <span style=\"color: #7f7f7f; text-decoration-color: #7f7f7f\">…</span>                │ <span style=\"color: #7f7f7f; text-decoration-color: #7f7f7f\">…</span>              │          <span style=\"color: #7f7f7f; text-decoration-color: #7f7f7f\">…</span> │\n",
       "└──────────────────────────────────────────────┴──────────────────┴────────────────┴────────────┘\n",
       "</pre>\n"
      ],
      "text/plain": [
       "┏━━━━━━━━━━━━━━━━━━━━━━━━━━━━━━━━━━━━━━━━━━━━━━┳━━━━━━━━━━━━━━━━━━┳━━━━━━━━━━━━━━━━┳━━━━━━━━━━━━┓\n",
       "┃\u001b[1m \u001b[0m\u001b[1mmsno\u001b[0m\u001b[1m                                        \u001b[0m\u001b[1m \u001b[0m┃\u001b[1m \u001b[0m\u001b[1mtransaction_date\u001b[0m\u001b[1m \u001b[0m┃\u001b[1m \u001b[0m\u001b[1mis_new_session\u001b[0m\u001b[1m \u001b[0m┃\u001b[1m \u001b[0m\u001b[1msession_id\u001b[0m\u001b[1m \u001b[0m┃\n",
       "┡━━━━━━━━━━━━━━━━━━━━━━━━━━━━━━━━━━━━━━━━━━━━━━╇━━━━━━━━━━━━━━━━━━╇━━━━━━━━━━━━━━━━╇━━━━━━━━━━━━┩\n",
       "│ \u001b[2mstring\u001b[0m                                       │ \u001b[2mdate\u001b[0m             │ \u001b[2mboolean\u001b[0m        │ \u001b[2mint64\u001b[0m      │\n",
       "├──────────────────────────────────────────────┼──────────────────┼────────────────┼────────────┤\n",
       "│ \u001b[32m++E1waHrjSGFrLK4FgYHlaQgZ22Fn2fuoc929CTPtlA=\u001b[0m │ \u001b[35m2015-01-08\u001b[0m       │ False          │          \u001b[1;36m0\u001b[0m │\n",
       "│ \u001b[32m++E1waHrjSGFrLK4FgYHlaQgZ22Fn2fuoc929CTPtlA=\u001b[0m │ \u001b[35m2015-01-11\u001b[0m       │ False          │          \u001b[1;36m0\u001b[0m │\n",
       "│ \u001b[32m++E1waHrjSGFrLK4FgYHlaQgZ22Fn2fuoc929CTPtlA=\u001b[0m │ \u001b[35m2015-02-08\u001b[0m       │ False          │          \u001b[1;36m0\u001b[0m │\n",
       "│ \u001b[32m++E1waHrjSGFrLK4FgYHlaQgZ22Fn2fuoc929CTPtlA=\u001b[0m │ \u001b[35m2015-08-03\u001b[0m       │ True           │          \u001b[1;36m1\u001b[0m │\n",
       "│ \u001b[32m++E1waHrjSGFrLK4FgYHlaQgZ22Fn2fuoc929CTPtlA=\u001b[0m │ \u001b[35m2016-06-27\u001b[0m       │ True           │          \u001b[1;36m2\u001b[0m │\n",
       "│ \u001b[32m++LZCSayFiyIn1KEg/55c4H2E05Ml8garpShWIvPy6c=\u001b[0m │ \u001b[35m2016-10-27\u001b[0m       │ False          │          \u001b[1;36m0\u001b[0m │\n",
       "│ \u001b[32m++ThL3xccp97rzylqtkrdJpziI4FehGtzNdAtcHlUo4=\u001b[0m │ \u001b[35m2015-06-08\u001b[0m       │ False          │          \u001b[1;36m0\u001b[0m │\n",
       "│ \u001b[32m++Yw58Kbsb6lxxkqxEaMZFCiAAEnmmNy90SYjIi5vVU=\u001b[0m │ \u001b[35m2015-01-26\u001b[0m       │ False          │          \u001b[1;36m0\u001b[0m │\n",
       "│ \u001b[32m++Yw58Kbsb6lxxkqxEaMZFCiAAEnmmNy90SYjIi5vVU=\u001b[0m │ \u001b[35m2015-02-26\u001b[0m       │ False          │          \u001b[1;36m0\u001b[0m │\n",
       "│ \u001b[32m++Yw58Kbsb6lxxkqxEaMZFCiAAEnmmNy90SYjIi5vVU=\u001b[0m │ \u001b[35m2015-03-26\u001b[0m       │ False          │          \u001b[1;36m0\u001b[0m │\n",
       "│ \u001b[2m…\u001b[0m                                            │ \u001b[2m…\u001b[0m                │ \u001b[2m…\u001b[0m              │          \u001b[2m…\u001b[0m │\n",
       "└──────────────────────────────────────────────┴──────────────────┴────────────────┴────────────┘"
      ]
     },
     "execution_count": 7,
     "metadata": {},
     "output_type": "execute_result"
    }
   ],
   "source": [
    "(\n",
    "    transactions\n",
    "    .select([c.msno, c.transaction_date])\n",
    "    .mutate(\n",
    "        is_new_session=(c.transaction_date > deadline_date).fillna(False)\n",
    "    )\n",
    "    .mutate(session_id=c.is_new_session.sum().over(entity_window))\n",
    ")"
   ]
  },
  {
   "cell_type": "code",
   "execution_count": 8,
   "metadata": {},
   "outputs": [
    {
     "data": {
      "text/html": [
       "<pre style=\"white-space:pre;overflow-x:auto;line-height:normal;font-family:Menlo,'DejaVu Sans Mono',consolas,'Courier New',monospace\"></pre>\n"
      ],
      "text/plain": []
     },
     "metadata": {},
     "output_type": "display_data"
    },
    {
     "data": {
      "text/plain": [
       "\u001b[1;36m3.096563\u001b[0m"
      ]
     },
     "execution_count": 8,
     "metadata": {},
     "output_type": "execute_result"
    }
   ],
   "source": [
    "entity_window = ibis.cumulative_window(\n",
    "    group_by=c.msno, order_by=c.transaction_date\n",
    ")\n",
    "threshold = ibis.interval(days=60)\n",
    "deadline_date = c.transaction_date.lag().over(entity_window) + threshold\n",
    "is_new_session = (c.transaction_date > deadline_date).fillna(False)\n",
    "\n",
    "sessionized = (\n",
    "    transactions\n",
    "    .mutate(is_new_session=is_new_session)\n",
    "    .mutate(session_id=c.is_new_session.sum().over(entity_window))\n",
    "    .drop(\"is_new_session\")\n",
    ")\n",
    "sessions = (\n",
    "    sessionized\n",
    "    .group_by([c.msno, c.session_id])\n",
    "    .aggregate(\n",
    "        session_start_date=c.transaction_date.min(),\n",
    "        session_end_date=c.transaction_date.max(),\n",
    "    )\n",
    "    .order_by([c.msno, c.session_start_date])\n",
    ")\n",
    "sessions.count() / 1e6"
   ]
  },
  {
   "cell_type": "code",
   "execution_count": 9,
   "metadata": {},
   "outputs": [],
   "source": [
    "# ibis.show_sql(sessions)"
   ]
  },
  {
   "cell_type": "code",
   "execution_count": 10,
   "metadata": {},
   "outputs": [],
   "source": [
    "def sessionize(table, threshold, entity_col, date_col):\n",
    "    entity_window = ibis.cumulative_window(\n",
    "        group_by=entity_col, order_by=date_col\n",
    "    )\n",
    "    deadline_date = date_col.lag().over(entity_window) + threshold\n",
    "    is_new_session = (date_col > deadline_date).fillna(False)\n",
    "\n",
    "    return (\n",
    "        table\n",
    "        .mutate(is_new_session=is_new_session)\n",
    "        .mutate(session_id=c.is_new_session.sum().over(entity_window))\n",
    "        .drop(\"is_new_session\")\n",
    "    )\n",
    "\n",
    "\n",
    "def extract_sessions(table, entity_col, date_col, session_col):\n",
    "    return (\n",
    "        table\n",
    "        .group_by([entity_col, session_col])\n",
    "        .aggregate(\n",
    "            session_start_date=date_col.min(),\n",
    "            session_end_date=date_col.max(),\n",
    "        )\n",
    "        .order_by([entity_col, c.session_start_date])\n",
    "    )\n",
    "\n",
    "\n",
    "def preprocess_transactions(transactions):\n",
    "    return (\n",
    "        transactions\n",
    "        .pipe(\n",
    "            sessionize,\n",
    "            threshold=ibis.interval(days=60),\n",
    "            entity_col=c.msno,\n",
    "            date_col=c.transaction_date,\n",
    "        )\n",
    "        .pipe(\n",
    "            extract_sessions,\n",
    "            entity_col=c.msno,\n",
    "            date_col=c.transaction_date,\n",
    "            session_col=c.session_id,\n",
    "        )\n",
    "    )"
   ]
  },
  {
   "cell_type": "code",
   "execution_count": 11,
   "metadata": {},
   "outputs": [
    {
     "name": "stdout",
     "output_type": "stream",
     "text": [
      "CPU times: user 31 s, sys: 3.92 s, total: 34.9 s\n",
      "Wall time: 6.47 s\n"
     ]
    },
    {
     "data": {
      "text/plain": [
       "3.096563"
      ]
     },
     "execution_count": 11,
     "metadata": {},
     "output_type": "execute_result"
    }
   ],
   "source": [
    "sessions = preprocess_transactions(transactions)\n",
    "%time sessions.count().execute() / 1e6"
   ]
  },
  {
   "cell_type": "code",
   "execution_count": 12,
   "metadata": {},
   "outputs": [
    {
     "name": "stdout",
     "output_type": "stream",
     "text": [
      "CPU times: user 34.4 s, sys: 4.49 s, total: 38.9 s\n",
      "Wall time: 8.86 s\n"
     ]
    },
    {
     "data": {
      "text/html": [
       "<div>\n",
       "<style scoped>\n",
       "    .dataframe tbody tr th:only-of-type {\n",
       "        vertical-align: middle;\n",
       "    }\n",
       "\n",
       "    .dataframe tbody tr th {\n",
       "        vertical-align: top;\n",
       "    }\n",
       "\n",
       "    .dataframe thead th {\n",
       "        text-align: right;\n",
       "    }\n",
       "</style>\n",
       "<table border=\"1\" class=\"dataframe\">\n",
       "  <thead>\n",
       "    <tr style=\"text-align: right;\">\n",
       "      <th></th>\n",
       "      <th>msno</th>\n",
       "      <th>session_id</th>\n",
       "      <th>session_start_date</th>\n",
       "      <th>session_end_date</th>\n",
       "    </tr>\n",
       "  </thead>\n",
       "  <tbody>\n",
       "    <tr>\n",
       "      <th>0</th>\n",
       "      <td>+++FOrTS7ab3tIgIh8eWwX4FqRv8w/FoiOuyXsFvphY=</td>\n",
       "      <td>0</td>\n",
       "      <td>2016-09-09</td>\n",
       "      <td>2016-09-09</td>\n",
       "    </tr>\n",
       "    <tr>\n",
       "      <th>1</th>\n",
       "      <td>+++IZseRRiQS9aaSkH6cMYU6bGDcxUieAi/tH67sC5s=</td>\n",
       "      <td>0</td>\n",
       "      <td>2015-11-21</td>\n",
       "      <td>2015-11-21</td>\n",
       "    </tr>\n",
       "    <tr>\n",
       "      <th>2</th>\n",
       "      <td>+++hVY1rZox/33YtvDgmKA2Frg/2qhkz12B9ylCvh8o=</td>\n",
       "      <td>0</td>\n",
       "      <td>2016-11-16</td>\n",
       "      <td>2017-02-15</td>\n",
       "    </tr>\n",
       "    <tr>\n",
       "      <th>3</th>\n",
       "      <td>+++l/EXNMLTijfLBa8p2TUVVVp2aFGSuUI/h7mLmthw=</td>\n",
       "      <td>0</td>\n",
       "      <td>2015-01-31</td>\n",
       "      <td>2016-01-31</td>\n",
       "    </tr>\n",
       "    <tr>\n",
       "      <th>4</th>\n",
       "      <td>+++l/EXNMLTijfLBa8p2TUVVVp2aFGSuUI/h7mLmthw=</td>\n",
       "      <td>1</td>\n",
       "      <td>2016-07-31</td>\n",
       "      <td>2017-01-31</td>\n",
       "    </tr>\n",
       "    <tr>\n",
       "      <th>...</th>\n",
       "      <td>...</td>\n",
       "      <td>...</td>\n",
       "      <td>...</td>\n",
       "      <td>...</td>\n",
       "    </tr>\n",
       "    <tr>\n",
       "      <th>3096558</th>\n",
       "      <td>zzz9+ZF4+GMyt63oU8xfjo1EkvRqH5OINlES0RUJI6I=</td>\n",
       "      <td>0</td>\n",
       "      <td>2015-10-14</td>\n",
       "      <td>2016-11-03</td>\n",
       "    </tr>\n",
       "    <tr>\n",
       "      <th>3096559</th>\n",
       "      <td>zzzF1KsGfHH3qI6qiSNSXC35UXmVKMVFdxkp7xmDMc0=</td>\n",
       "      <td>0</td>\n",
       "      <td>2017-02-05</td>\n",
       "      <td>2017-02-05</td>\n",
       "    </tr>\n",
       "    <tr>\n",
       "      <th>3096560</th>\n",
       "      <td>zzzN9thH22os1dRS0VHReY/8FTfGHOi86//d+wGGFsQ=</td>\n",
       "      <td>0</td>\n",
       "      <td>2016-03-04</td>\n",
       "      <td>2017-02-02</td>\n",
       "    </tr>\n",
       "    <tr>\n",
       "      <th>3096561</th>\n",
       "      <td>zzztsqkufVj9DPVJDM3FxDkhlbCL5z4aiYxgPSGkIK4=</td>\n",
       "      <td>0</td>\n",
       "      <td>2015-06-08</td>\n",
       "      <td>2015-06-08</td>\n",
       "    </tr>\n",
       "    <tr>\n",
       "      <th>3096562</th>\n",
       "      <td>zzzyOgMk9MljCerbCCYrVtvu85aSCiy7yCMjAEgNYMs=</td>\n",
       "      <td>0</td>\n",
       "      <td>2015-06-13</td>\n",
       "      <td>2015-06-13</td>\n",
       "    </tr>\n",
       "  </tbody>\n",
       "</table>\n",
       "<p>3096563 rows × 4 columns</p>\n",
       "</div>"
      ],
      "text/plain": [
       "                                                 msno  session_id  \\\n",
       "0        +++FOrTS7ab3tIgIh8eWwX4FqRv8w/FoiOuyXsFvphY=           0   \n",
       "1        +++IZseRRiQS9aaSkH6cMYU6bGDcxUieAi/tH67sC5s=           0   \n",
       "2        +++hVY1rZox/33YtvDgmKA2Frg/2qhkz12B9ylCvh8o=           0   \n",
       "3        +++l/EXNMLTijfLBa8p2TUVVVp2aFGSuUI/h7mLmthw=           0   \n",
       "4        +++l/EXNMLTijfLBa8p2TUVVVp2aFGSuUI/h7mLmthw=           1   \n",
       "...                                               ...         ...   \n",
       "3096558  zzz9+ZF4+GMyt63oU8xfjo1EkvRqH5OINlES0RUJI6I=           0   \n",
       "3096559  zzzF1KsGfHH3qI6qiSNSXC35UXmVKMVFdxkp7xmDMc0=           0   \n",
       "3096560  zzzN9thH22os1dRS0VHReY/8FTfGHOi86//d+wGGFsQ=           0   \n",
       "3096561  zzztsqkufVj9DPVJDM3FxDkhlbCL5z4aiYxgPSGkIK4=           0   \n",
       "3096562  zzzyOgMk9MljCerbCCYrVtvu85aSCiy7yCMjAEgNYMs=           0   \n",
       "\n",
       "        session_start_date session_end_date  \n",
       "0               2016-09-09       2016-09-09  \n",
       "1               2015-11-21       2015-11-21  \n",
       "2               2016-11-16       2017-02-15  \n",
       "3               2015-01-31       2016-01-31  \n",
       "4               2016-07-31       2017-01-31  \n",
       "...                    ...              ...  \n",
       "3096558         2015-10-14       2016-11-03  \n",
       "3096559         2017-02-05       2017-02-05  \n",
       "3096560         2016-03-04       2017-02-02  \n",
       "3096561         2015-06-08       2015-06-08  \n",
       "3096562         2015-06-13       2015-06-13  \n",
       "\n",
       "[3096563 rows x 4 columns]"
      ]
     },
     "execution_count": 12,
     "metadata": {},
     "output_type": "execute_result"
    }
   ],
   "source": [
    "%time sessions_df = sessions.to_pandas()\n",
    "sessions_df"
   ]
  },
  {
   "cell_type": "code",
   "execution_count": 13,
   "metadata": {},
   "outputs": [],
   "source": [
    "# clickhouse_conn = ibis.clickhouse.connect(host=\"localhost\", port=9000)\n",
    "# transactions = clickhouse_conn.table(\"transactions\")\n",
    "# %time preprocess_transactions(transactions).count().execute()"
   ]
  },
  {
   "cell_type": "code",
   "execution_count": 14,
   "metadata": {},
   "outputs": [],
   "source": [
    "# ibis.show_sql(preprocess_transactions(transactions))"
   ]
  },
  {
   "cell_type": "code",
   "execution_count": 15,
   "metadata": {},
   "outputs": [
    {
     "data": {
      "text/plain": [
       "392.106543"
      ]
     },
     "execution_count": 15,
     "metadata": {},
     "output_type": "execute_result"
    }
   ],
   "source": [
    "user_logs = duckdb_in_mem_conn.read_parquet(\"user_logs.parquet\")\n",
    "user_logs.count().execute() / 1e6"
   ]
  },
  {
   "cell_type": "code",
   "execution_count": 16,
   "metadata": {},
   "outputs": [],
   "source": [
    "# XXX: the following raises OutOfMemoryException after 5 minutes on my laptop\n",
    "\n",
    "# def preprocess_user_logs(user_logs):\n",
    "#     return (\n",
    "#         user_logs\n",
    "#         .pipe(sessionize, threshold=ibis.interval(days=2), entity_col=c.msno, date_col=c.date)\n",
    "#         .pipe(extract_sessions, entity_col=c.msno, date_col=c.date, session_col=c.session_id)\n",
    "#     )\n",
    "# %time first_10_user_logs_sessions = preprocess_user_logs(user_logs).limit(10).execute()\n",
    "# first_10_user_logs_sessions"
   ]
  },
  {
   "cell_type": "code",
   "execution_count": 17,
   "metadata": {},
   "outputs": [
    {
     "data": {
      "text/plain": [
       "'0.16.18'"
      ]
     },
     "execution_count": 17,
     "metadata": {},
     "output_type": "execute_result"
    }
   ],
   "source": [
    "import polars as pl\n",
    "\n",
    "\n",
    "pl.__version__"
   ]
  },
  {
   "cell_type": "code",
   "execution_count": 18,
   "metadata": {},
   "outputs": [
    {
     "data": {
      "text/html": [
       "<div><style>\n",
       ".dataframe > thead > tr > th,\n",
       ".dataframe > tbody > tr > td {\n",
       "  text-align: right;\n",
       "}\n",
       "</style>\n",
       "<small>shape: (21547746, 9)</small><table border=\"1\" class=\"dataframe\"><thead><tr><th>msno</th><th>payment_method_id</th><th>payment_plan_days</th><th>plan_list_price</th><th>actual_amount_paid</th><th>is_auto_renew</th><th>transaction_date</th><th>membership_expire_date</th><th>is_cancel</th></tr><tr><td>str</td><td>i32</td><td>i32</td><td>i32</td><td>i32</td><td>bool</td><td>date</td><td>date</td><td>bool</td></tr></thead><tbody><tr><td>&quot;YyO+tlZtAXYXoZ…</td><td>41</td><td>30</td><td>129</td><td>129</td><td>true</td><td>2015-09-30</td><td>2015-11-01</td><td>false</td></tr><tr><td>&quot;AZtu6Wl0gPojrE…</td><td>41</td><td>30</td><td>149</td><td>149</td><td>true</td><td>2015-09-30</td><td>2015-10-31</td><td>false</td></tr><tr><td>&quot;UkDFI97Qb6+s2L…</td><td>41</td><td>30</td><td>129</td><td>129</td><td>true</td><td>2015-09-30</td><td>2016-04-27</td><td>false</td></tr><tr><td>&quot;M1C56ijxozNaGD…</td><td>39</td><td>30</td><td>149</td><td>149</td><td>true</td><td>2015-09-30</td><td>2015-11-28</td><td>false</td></tr><tr><td>&quot;yvj6zyBUaqdbUQ…</td><td>39</td><td>30</td><td>149</td><td>149</td><td>true</td><td>2015-09-30</td><td>2015-11-21</td><td>false</td></tr><tr><td>&quot;KN7I82kjY0Tn76…</td><td>21</td><td>30</td><td>149</td><td>149</td><td>true</td><td>2015-09-30</td><td>2015-11-07</td><td>false</td></tr><tr><td>&quot;m5ptKif9BjdUgh…</td><td>39</td><td>30</td><td>149</td><td>149</td><td>true</td><td>2015-09-30</td><td>2015-11-28</td><td>false</td></tr><tr><td>&quot;uQxbyACsPOEkTI…</td><td>39</td><td>30</td><td>149</td><td>149</td><td>true</td><td>2015-09-30</td><td>2015-11-25</td><td>false</td></tr><tr><td>&quot;LUPRfoE2r3WwVW…</td><td>39</td><td>30</td><td>149</td><td>149</td><td>true</td><td>2015-09-30</td><td>2015-12-22</td><td>false</td></tr><tr><td>&quot;pMVjPLgVknaJYm…</td><td>39</td><td>30</td><td>149</td><td>149</td><td>true</td><td>2015-09-30</td><td>2015-11-18</td><td>false</td></tr><tr><td>&quot;bQkbrEPdMfVfds…</td><td>39</td><td>30</td><td>149</td><td>149</td><td>true</td><td>2015-09-30</td><td>2015-11-21</td><td>false</td></tr><tr><td>&quot;TZVCT9pCufI/AW…</td><td>39</td><td>30</td><td>149</td><td>149</td><td>true</td><td>2015-09-30</td><td>2015-11-24</td><td>false</td></tr><tr><td>&hellip;</td><td>&hellip;</td><td>&hellip;</td><td>&hellip;</td><td>&hellip;</td><td>&hellip;</td><td>&hellip;</td><td>&hellip;</td><td>&hellip;</td></tr><tr><td>&quot;X9Nppt6KoaN4sV…</td><td>41</td><td>30</td><td>149</td><td>149</td><td>true</td><td>2015-10-31</td><td>2015-10-31</td><td>true</td></tr><tr><td>&quot;cuu/cgkJrhglxa…</td><td>41</td><td>30</td><td>149</td><td>149</td><td>true</td><td>2016-09-30</td><td>2016-09-30</td><td>true</td></tr><tr><td>&quot;RcroSqTcuY65ds…</td><td>41</td><td>30</td><td>129</td><td>129</td><td>true</td><td>2016-09-30</td><td>2016-10-31</td><td>false</td></tr><tr><td>&quot;6FOISKyR4yGktX…</td><td>41</td><td>30</td><td>149</td><td>0</td><td>true</td><td>2015-08-31</td><td>2015-09-04</td><td>true</td></tr><tr><td>&quot;mkEfU0b1pjRXLv…</td><td>36</td><td>30</td><td>150</td><td>150</td><td>false</td><td>2015-08-31</td><td>2015-09-30</td><td>false</td></tr><tr><td>&quot;P2z9ldTlUfuYnx…</td><td>41</td><td>30</td><td>99</td><td>99</td><td>true</td><td>2017-01-30</td><td>2017-01-30</td><td>true</td></tr><tr><td>&quot;tBYKG/I8+BAQ4B…</td><td>41</td><td>30</td><td>99</td><td>99</td><td>true</td><td>2015-10-30</td><td>2015-11-30</td><td>false</td></tr><tr><td>&quot;6AO1oJjW3YT1ad…</td><td>38</td><td>30</td><td>149</td><td>149</td><td>false</td><td>2015-10-30</td><td>2015-11-29</td><td>false</td></tr><tr><td>&quot;wkSSJvM8E1hsNm…</td><td>36</td><td>30</td><td>150</td><td>150</td><td>false</td><td>2016-03-31</td><td>2016-05-30</td><td>false</td></tr><tr><td>&quot;VQ4KpwvezU3dqq…</td><td>36</td><td>30</td><td>180</td><td>180</td><td>false</td><td>2016-11-29</td><td>2016-12-29</td><td>false</td></tr><tr><td>&quot;a84q/Ts47Oyyqc…</td><td>41</td><td>30</td><td>99</td><td>99</td><td>true</td><td>2016-11-30</td><td>2016-12-31</td><td>false</td></tr><tr><td>&quot;oE4y2wK5E7OR8z…</td><td>41</td><td>30</td><td>149</td><td>0</td><td>true</td><td>2015-10-29</td><td>2015-10-29</td><td>true</td></tr></tbody></table></div>"
      ],
      "text/plain": [
       "shape: (21_547_746, 9)\n",
       "┌──────┬────────────┬────────────┬────────────┬───┬────────────┬────────────┬────────────┬─────────┐\n",
       "│ msno ┆ payment_me ┆ payment_pl ┆ plan_list_ ┆ … ┆ is_auto_re ┆ transactio ┆ membership ┆ is_canc │\n",
       "│ ---  ┆ thod_id    ┆ an_days    ┆ price      ┆   ┆ new        ┆ n_date     ┆ _expire_da ┆ el      │\n",
       "│ str  ┆ ---        ┆ ---        ┆ ---        ┆   ┆ ---        ┆ ---        ┆ te         ┆ ---     │\n",
       "│      ┆ i32        ┆ i32        ┆ i32        ┆   ┆ bool       ┆ date       ┆ ---        ┆ bool    │\n",
       "│      ┆            ┆            ┆            ┆   ┆            ┆            ┆ date       ┆         │\n",
       "╞══════╪════════════╪════════════╪════════════╪═══╪════════════╪════════════╪════════════╪═════════╡\n",
       "│ YyO+ ┆ 41         ┆ 30         ┆ 129        ┆ … ┆ true       ┆ 2015-09-30 ┆ 2015-11-01 ┆ false   │\n",
       "│ tlZt ┆            ┆            ┆            ┆   ┆            ┆            ┆            ┆         │\n",
       "│ AXYX ┆            ┆            ┆            ┆   ┆            ┆            ┆            ┆         │\n",
       "│ oZhN ┆            ┆            ┆            ┆   ┆            ┆            ┆            ┆         │\n",
       "│ r3Vg ┆            ┆            ┆            ┆   ┆            ┆            ┆            ┆         │\n",
       "│ 3+df ┆            ┆            ┆            ┆   ┆            ┆            ┆            ┆         │\n",
       "│ VQvr ┆            ┆            ┆            ┆   ┆            ┆            ┆            ┆         │\n",
       "│ BVGO ┆            ┆            ┆            ┆   ┆            ┆            ┆            ┆         │\n",
       "│ …    ┆            ┆            ┆            ┆   ┆            ┆            ┆            ┆         │\n",
       "│ AZtu ┆ 41         ┆ 30         ┆ 149        ┆ … ┆ true       ┆ 2015-09-30 ┆ 2015-10-31 ┆ false   │\n",
       "│ 6Wl0 ┆            ┆            ┆            ┆   ┆            ┆            ┆            ┆         │\n",
       "│ gPoj ┆            ┆            ┆            ┆   ┆            ┆            ┆            ┆         │\n",
       "│ rEQY ┆            ┆            ┆            ┆   ┆            ┆            ┆            ┆         │\n",
       "│ B8Q3 ┆            ┆            ┆            ┆   ┆            ┆            ┆            ┆         │\n",
       "│ vBSm ┆            ┆            ┆            ┆   ┆            ┆            ┆            ┆         │\n",
       "│ E2wn ┆            ┆            ┆            ┆   ┆            ┆            ┆            ┆         │\n",
       "│ Z3hi ┆            ┆            ┆            ┆   ┆            ┆            ┆            ┆         │\n",
       "│ …    ┆            ┆            ┆            ┆   ┆            ┆            ┆            ┆         │\n",
       "│ UkDF ┆ 41         ┆ 30         ┆ 129        ┆ … ┆ true       ┆ 2015-09-30 ┆ 2016-04-27 ┆ false   │\n",
       "│ I97Q ┆            ┆            ┆            ┆   ┆            ┆            ┆            ┆         │\n",
       "│ b6+s ┆            ┆            ┆            ┆   ┆            ┆            ┆            ┆         │\n",
       "│ 2LWc ┆            ┆            ┆            ┆   ┆            ┆            ┆            ┆         │\n",
       "│ ijVV ┆            ┆            ┆            ┆   ┆            ┆            ┆            ┆         │\n",
       "│ v4rM ┆            ┆            ┆            ┆   ┆            ┆            ┆            ┆         │\n",
       "│ AsOR ┆            ┆            ┆            ┆   ┆            ┆            ┆            ┆         │\n",
       "│ bVDT ┆            ┆            ┆            ┆   ┆            ┆            ┆            ┆         │\n",
       "│ …    ┆            ┆            ┆            ┆   ┆            ┆            ┆            ┆         │\n",
       "│ M1C5 ┆ 39         ┆ 30         ┆ 149        ┆ … ┆ true       ┆ 2015-09-30 ┆ 2015-11-28 ┆ false   │\n",
       "│ 6ijx ┆            ┆            ┆            ┆   ┆            ┆            ┆            ┆         │\n",
       "│ ozNa ┆            ┆            ┆            ┆   ┆            ┆            ┆            ┆         │\n",
       "│ GD0t ┆            ┆            ┆            ┆   ┆            ┆            ┆            ┆         │\n",
       "│ 2h68 ┆            ┆            ┆            ┆   ┆            ┆            ┆            ┆         │\n",
       "│ PnH2 ┆            ┆            ┆            ┆   ┆            ┆            ┆            ┆         │\n",
       "│ xtx5 ┆            ┆            ┆            ┆   ┆            ┆            ┆            ┆         │\n",
       "│ iO5i ┆            ┆            ┆            ┆   ┆            ┆            ┆            ┆         │\n",
       "│ …    ┆            ┆            ┆            ┆   ┆            ┆            ┆            ┆         │\n",
       "│ …    ┆ …          ┆ …          ┆ …          ┆ … ┆ …          ┆ …          ┆ …          ┆ …       │\n",
       "│ wkSS ┆ 36         ┆ 30         ┆ 150        ┆ … ┆ false      ┆ 2016-03-31 ┆ 2016-05-30 ┆ false   │\n",
       "│ JvM8 ┆            ┆            ┆            ┆   ┆            ┆            ┆            ┆         │\n",
       "│ E1hs ┆            ┆            ┆            ┆   ┆            ┆            ┆            ┆         │\n",
       "│ NmRY ┆            ┆            ┆            ┆   ┆            ┆            ┆            ┆         │\n",
       "│ E4vl ┆            ┆            ┆            ┆   ┆            ┆            ┆            ┆         │\n",
       "│ OcR4 ┆            ┆            ┆            ┆   ┆            ┆            ┆            ┆         │\n",
       "│ 26v0 ┆            ┆            ┆            ┆   ┆            ┆            ┆            ┆         │\n",
       "│ Kd4L ┆            ┆            ┆            ┆   ┆            ┆            ┆            ┆         │\n",
       "│ …    ┆            ┆            ┆            ┆   ┆            ┆            ┆            ┆         │\n",
       "│ VQ4K ┆ 36         ┆ 30         ┆ 180        ┆ … ┆ false      ┆ 2016-11-29 ┆ 2016-12-29 ┆ false   │\n",
       "│ pwve ┆            ┆            ┆            ┆   ┆            ┆            ┆            ┆         │\n",
       "│ zU3d ┆            ┆            ┆            ┆   ┆            ┆            ┆            ┆         │\n",
       "│ qq6B ┆            ┆            ┆            ┆   ┆            ┆            ┆            ┆         │\n",
       "│ kqfj ┆            ┆            ┆            ┆   ┆            ┆            ┆            ┆         │\n",
       "│ smt4 ┆            ┆            ┆            ┆   ┆            ┆            ┆            ┆         │\n",
       "│ fn0J ┆            ┆            ┆            ┆   ┆            ┆            ┆            ┆         │\n",
       "│ DRck ┆            ┆            ┆            ┆   ┆            ┆            ┆            ┆         │\n",
       "│ …    ┆            ┆            ┆            ┆   ┆            ┆            ┆            ┆         │\n",
       "│ a84q ┆ 41         ┆ 30         ┆ 99         ┆ … ┆ true       ┆ 2016-11-30 ┆ 2016-12-31 ┆ false   │\n",
       "│ /Ts4 ┆            ┆            ┆            ┆   ┆            ┆            ┆            ┆         │\n",
       "│ 7Oyy ┆            ┆            ┆            ┆   ┆            ┆            ┆            ┆         │\n",
       "│ qc1N ┆            ┆            ┆            ┆   ┆            ┆            ┆            ┆         │\n",
       "│ 1WRa ┆            ┆            ┆            ┆   ┆            ┆            ┆            ┆         │\n",
       "│ sBdb ┆            ┆            ┆            ┆   ┆            ┆            ┆            ┆         │\n",
       "│ gYSF ┆            ┆            ┆            ┆   ┆            ┆            ┆            ┆         │\n",
       "│ /f3u ┆            ┆            ┆            ┆   ┆            ┆            ┆            ┆         │\n",
       "│ …    ┆            ┆            ┆            ┆   ┆            ┆            ┆            ┆         │\n",
       "│ oE4y ┆ 41         ┆ 30         ┆ 149        ┆ … ┆ true       ┆ 2015-10-29 ┆ 2015-10-29 ┆ true    │\n",
       "│ 2wK5 ┆            ┆            ┆            ┆   ┆            ┆            ┆            ┆         │\n",
       "│ E7OR ┆            ┆            ┆            ┆   ┆            ┆            ┆            ┆         │\n",
       "│ 8zyr ┆            ┆            ┆            ┆   ┆            ┆            ┆            ┆         │\n",
       "│ CHeW ┆            ┆            ┆            ┆   ┆            ┆            ┆            ┆         │\n",
       "│ 02uT ┆            ┆            ┆            ┆   ┆            ┆            ┆            ┆         │\n",
       "│ eI6w ┆            ┆            ┆            ┆   ┆            ┆            ┆            ┆         │\n",
       "│ TwT4 ┆            ┆            ┆            ┆   ┆            ┆            ┆            ┆         │\n",
       "│ …    ┆            ┆            ┆            ┆   ┆            ┆            ┆            ┆         │\n",
       "└──────┴────────────┴────────────┴────────────┴───┴────────────┴────────────┴────────────┴─────────┘"
      ]
     },
     "execution_count": 18,
     "metadata": {},
     "output_type": "execute_result"
    }
   ],
   "source": [
    "transactions_df = pl.read_parquet(\"transactions.parquet\")\n",
    "transactions_df"
   ]
  },
  {
   "cell_type": "code",
   "execution_count": 19,
   "metadata": {},
   "outputs": [
    {
     "data": {
      "text/html": [
       "<h4>NAIVE QUERY PLAN</h4><p>run <b>LazyFrame.show_graph()</b> to see the optimized version</p><?xml version=\"1.0\" encoding=\"UTF-8\" standalone=\"no\"?>\n",
       "<!DOCTYPE svg PUBLIC \"-//W3C//DTD SVG 1.1//EN\"\n",
       " \"http://www.w3.org/Graphics/SVG/1.1/DTD/svg11.dtd\">\n",
       "<!-- Generated by graphviz version 6.0.2 (20221011.1828)\n",
       " -->\n",
       "<!-- Title: polars_query Pages: 1 -->\n",
       "<svg width=\"247pt\" height=\"61pt\"\n",
       " viewBox=\"0.00 0.00 247.00 61.00\" xmlns=\"http://www.w3.org/2000/svg\" xmlns:xlink=\"http://www.w3.org/1999/xlink\">\n",
       "<g id=\"graph0\" class=\"graph\" transform=\"scale(1 1) rotate(0) translate(4 57)\">\n",
       "<title>polars_query</title>\n",
       "<polygon fill=\"white\" stroke=\"none\" points=\"-4,4 -4,-57 243,-57 243,4 -4,4\"/>\n",
       "<!-- [PARQUET SCAN transactions.parquet;\n",
       "π */9;\n",
       "σ &#45;] -->\n",
       "<g id=\"node1\" class=\"node\">\n",
       "<title>[PARQUET SCAN transactions.parquet;\n",
       "π */9;\n",
       "σ &#45;]</title>\n",
       "<polygon fill=\"none\" stroke=\"black\" points=\"239,-53 0,-53 0,0 239,0 239,-53\"/>\n",
       "<text text-anchor=\"middle\" x=\"119.5\" y=\"-37.8\" font-family=\"Times,serif\" font-size=\"14.00\">[PARQUET SCAN transactions.parquet;</text>\n",
       "<text text-anchor=\"middle\" x=\"119.5\" y=\"-22.8\" font-family=\"Times,serif\" font-size=\"14.00\">π */9;</text>\n",
       "<text text-anchor=\"middle\" x=\"119.5\" y=\"-7.8\" font-family=\"Times,serif\" font-size=\"14.00\">σ &#45;]</text>\n",
       "</g>\n",
       "</g>\n",
       "</svg>\n"
      ],
      "text/plain": [
       "<polars.LazyFrame object at 0x1527F7950>"
      ]
     },
     "execution_count": 19,
     "metadata": {},
     "output_type": "execute_result"
    }
   ],
   "source": [
    "transactions_lazy_df = pl.scan_parquet(\"transactions.parquet\")\n",
    "transactions_lazy_df"
   ]
  },
  {
   "cell_type": "code",
   "execution_count": 20,
   "metadata": {},
   "outputs": [
    {
     "data": {
      "text/html": [
       "<div><style>\n",
       ".dataframe > thead > tr > th,\n",
       ".dataframe > tbody > tr > td {\n",
       "  text-align: right;\n",
       "}\n",
       "</style>\n",
       "<small>shape: (10, 9)</small><table border=\"1\" class=\"dataframe\"><thead><tr><th>msno</th><th>payment_method_id</th><th>payment_plan_days</th><th>plan_list_price</th><th>actual_amount_paid</th><th>is_auto_renew</th><th>transaction_date</th><th>membership_expire_date</th><th>is_cancel</th></tr><tr><td>str</td><td>i32</td><td>i32</td><td>i32</td><td>i32</td><td>bool</td><td>date</td><td>date</td><td>bool</td></tr></thead><tbody><tr><td>&quot;YyO+tlZtAXYXoZ…</td><td>41</td><td>30</td><td>129</td><td>129</td><td>true</td><td>2015-09-30</td><td>2015-11-01</td><td>false</td></tr><tr><td>&quot;AZtu6Wl0gPojrE…</td><td>41</td><td>30</td><td>149</td><td>149</td><td>true</td><td>2015-09-30</td><td>2015-10-31</td><td>false</td></tr><tr><td>&quot;UkDFI97Qb6+s2L…</td><td>41</td><td>30</td><td>129</td><td>129</td><td>true</td><td>2015-09-30</td><td>2016-04-27</td><td>false</td></tr><tr><td>&quot;M1C56ijxozNaGD…</td><td>39</td><td>30</td><td>149</td><td>149</td><td>true</td><td>2015-09-30</td><td>2015-11-28</td><td>false</td></tr><tr><td>&quot;yvj6zyBUaqdbUQ…</td><td>39</td><td>30</td><td>149</td><td>149</td><td>true</td><td>2015-09-30</td><td>2015-11-21</td><td>false</td></tr><tr><td>&quot;KN7I82kjY0Tn76…</td><td>21</td><td>30</td><td>149</td><td>149</td><td>true</td><td>2015-09-30</td><td>2015-11-07</td><td>false</td></tr><tr><td>&quot;m5ptKif9BjdUgh…</td><td>39</td><td>30</td><td>149</td><td>149</td><td>true</td><td>2015-09-30</td><td>2015-11-28</td><td>false</td></tr><tr><td>&quot;uQxbyACsPOEkTI…</td><td>39</td><td>30</td><td>149</td><td>149</td><td>true</td><td>2015-09-30</td><td>2015-11-25</td><td>false</td></tr><tr><td>&quot;LUPRfoE2r3WwVW…</td><td>39</td><td>30</td><td>149</td><td>149</td><td>true</td><td>2015-09-30</td><td>2015-12-22</td><td>false</td></tr><tr><td>&quot;pMVjPLgVknaJYm…</td><td>39</td><td>30</td><td>149</td><td>149</td><td>true</td><td>2015-09-30</td><td>2015-11-18</td><td>false</td></tr></tbody></table></div>"
      ],
      "text/plain": [
       "shape: (10, 9)\n",
       "┌──────┬────────────┬────────────┬────────────┬───┬────────────┬────────────┬────────────┬─────────┐\n",
       "│ msno ┆ payment_me ┆ payment_pl ┆ plan_list_ ┆ … ┆ is_auto_re ┆ transactio ┆ membership ┆ is_canc │\n",
       "│ ---  ┆ thod_id    ┆ an_days    ┆ price      ┆   ┆ new        ┆ n_date     ┆ _expire_da ┆ el      │\n",
       "│ str  ┆ ---        ┆ ---        ┆ ---        ┆   ┆ ---        ┆ ---        ┆ te         ┆ ---     │\n",
       "│      ┆ i32        ┆ i32        ┆ i32        ┆   ┆ bool       ┆ date       ┆ ---        ┆ bool    │\n",
       "│      ┆            ┆            ┆            ┆   ┆            ┆            ┆ date       ┆         │\n",
       "╞══════╪════════════╪════════════╪════════════╪═══╪════════════╪════════════╪════════════╪═════════╡\n",
       "│ YyO+ ┆ 41         ┆ 30         ┆ 129        ┆ … ┆ true       ┆ 2015-09-30 ┆ 2015-11-01 ┆ false   │\n",
       "│ tlZt ┆            ┆            ┆            ┆   ┆            ┆            ┆            ┆         │\n",
       "│ AXYX ┆            ┆            ┆            ┆   ┆            ┆            ┆            ┆         │\n",
       "│ oZhN ┆            ┆            ┆            ┆   ┆            ┆            ┆            ┆         │\n",
       "│ r3Vg ┆            ┆            ┆            ┆   ┆            ┆            ┆            ┆         │\n",
       "│ 3+df ┆            ┆            ┆            ┆   ┆            ┆            ┆            ┆         │\n",
       "│ VQvr ┆            ┆            ┆            ┆   ┆            ┆            ┆            ┆         │\n",
       "│ BVGO ┆            ┆            ┆            ┆   ┆            ┆            ┆            ┆         │\n",
       "│ …    ┆            ┆            ┆            ┆   ┆            ┆            ┆            ┆         │\n",
       "│ AZtu ┆ 41         ┆ 30         ┆ 149        ┆ … ┆ true       ┆ 2015-09-30 ┆ 2015-10-31 ┆ false   │\n",
       "│ 6Wl0 ┆            ┆            ┆            ┆   ┆            ┆            ┆            ┆         │\n",
       "│ gPoj ┆            ┆            ┆            ┆   ┆            ┆            ┆            ┆         │\n",
       "│ rEQY ┆            ┆            ┆            ┆   ┆            ┆            ┆            ┆         │\n",
       "│ B8Q3 ┆            ┆            ┆            ┆   ┆            ┆            ┆            ┆         │\n",
       "│ vBSm ┆            ┆            ┆            ┆   ┆            ┆            ┆            ┆         │\n",
       "│ E2wn ┆            ┆            ┆            ┆   ┆            ┆            ┆            ┆         │\n",
       "│ Z3hi ┆            ┆            ┆            ┆   ┆            ┆            ┆            ┆         │\n",
       "│ …    ┆            ┆            ┆            ┆   ┆            ┆            ┆            ┆         │\n",
       "│ UkDF ┆ 41         ┆ 30         ┆ 129        ┆ … ┆ true       ┆ 2015-09-30 ┆ 2016-04-27 ┆ false   │\n",
       "│ I97Q ┆            ┆            ┆            ┆   ┆            ┆            ┆            ┆         │\n",
       "│ b6+s ┆            ┆            ┆            ┆   ┆            ┆            ┆            ┆         │\n",
       "│ 2LWc ┆            ┆            ┆            ┆   ┆            ┆            ┆            ┆         │\n",
       "│ ijVV ┆            ┆            ┆            ┆   ┆            ┆            ┆            ┆         │\n",
       "│ v4rM ┆            ┆            ┆            ┆   ┆            ┆            ┆            ┆         │\n",
       "│ AsOR ┆            ┆            ┆            ┆   ┆            ┆            ┆            ┆         │\n",
       "│ bVDT ┆            ┆            ┆            ┆   ┆            ┆            ┆            ┆         │\n",
       "│ …    ┆            ┆            ┆            ┆   ┆            ┆            ┆            ┆         │\n",
       "│ M1C5 ┆ 39         ┆ 30         ┆ 149        ┆ … ┆ true       ┆ 2015-09-30 ┆ 2015-11-28 ┆ false   │\n",
       "│ 6ijx ┆            ┆            ┆            ┆   ┆            ┆            ┆            ┆         │\n",
       "│ ozNa ┆            ┆            ┆            ┆   ┆            ┆            ┆            ┆         │\n",
       "│ GD0t ┆            ┆            ┆            ┆   ┆            ┆            ┆            ┆         │\n",
       "│ 2h68 ┆            ┆            ┆            ┆   ┆            ┆            ┆            ┆         │\n",
       "│ PnH2 ┆            ┆            ┆            ┆   ┆            ┆            ┆            ┆         │\n",
       "│ xtx5 ┆            ┆            ┆            ┆   ┆            ┆            ┆            ┆         │\n",
       "│ iO5i ┆            ┆            ┆            ┆   ┆            ┆            ┆            ┆         │\n",
       "│ …    ┆            ┆            ┆            ┆   ┆            ┆            ┆            ┆         │\n",
       "│ …    ┆ …          ┆ …          ┆ …          ┆ … ┆ …          ┆ …          ┆ …          ┆ …       │\n",
       "│ m5pt ┆ 39         ┆ 30         ┆ 149        ┆ … ┆ true       ┆ 2015-09-30 ┆ 2015-11-28 ┆ false   │\n",
       "│ Kif9 ┆            ┆            ┆            ┆   ┆            ┆            ┆            ┆         │\n",
       "│ BjdU ┆            ┆            ┆            ┆   ┆            ┆            ┆            ┆         │\n",
       "│ ghHX ┆            ┆            ┆            ┆   ┆            ┆            ┆            ┆         │\n",
       "│ XomS ┆            ┆            ┆            ┆   ┆            ┆            ┆            ┆         │\n",
       "│ ezy5 ┆            ┆            ┆            ┆   ┆            ┆            ┆            ┆         │\n",
       "│ ohJi ┆            ┆            ┆            ┆   ┆            ┆            ┆            ┆         │\n",
       "│ Hm85 ┆            ┆            ┆            ┆   ┆            ┆            ┆            ┆         │\n",
       "│ …    ┆            ┆            ┆            ┆   ┆            ┆            ┆            ┆         │\n",
       "│ uQxb ┆ 39         ┆ 30         ┆ 149        ┆ … ┆ true       ┆ 2015-09-30 ┆ 2015-11-25 ┆ false   │\n",
       "│ yACs ┆            ┆            ┆            ┆   ┆            ┆            ┆            ┆         │\n",
       "│ POEk ┆            ┆            ┆            ┆   ┆            ┆            ┆            ┆         │\n",
       "│ TIrv ┆            ┆            ┆            ┆   ┆            ┆            ┆            ┆         │\n",
       "│ 9jZg ┆            ┆            ┆            ┆   ┆            ┆            ┆            ┆         │\n",
       "│ oGXe ┆            ┆            ┆            ┆   ┆            ┆            ┆            ┆         │\n",
       "│ lGBW ┆            ┆            ┆            ┆   ┆            ┆            ┆            ┆         │\n",
       "│ 81Zs ┆            ┆            ┆            ┆   ┆            ┆            ┆            ┆         │\n",
       "│ …    ┆            ┆            ┆            ┆   ┆            ┆            ┆            ┆         │\n",
       "│ LUPR ┆ 39         ┆ 30         ┆ 149        ┆ … ┆ true       ┆ 2015-09-30 ┆ 2015-12-22 ┆ false   │\n",
       "│ foE2 ┆            ┆            ┆            ┆   ┆            ┆            ┆            ┆         │\n",
       "│ r3Ww ┆            ┆            ┆            ┆   ┆            ┆            ┆            ┆         │\n",
       "│ VWhY ┆            ┆            ┆            ┆   ┆            ┆            ┆            ┆         │\n",
       "│ O/Tq ┆            ┆            ┆            ┆   ┆            ┆            ┆            ┆         │\n",
       "│ Qhjr ┆            ┆            ┆            ┆   ┆            ┆            ┆            ┆         │\n",
       "│ L/qP ┆            ┆            ┆            ┆   ┆            ┆            ┆            ┆         │\n",
       "│ 6CO+ ┆            ┆            ┆            ┆   ┆            ┆            ┆            ┆         │\n",
       "│ …    ┆            ┆            ┆            ┆   ┆            ┆            ┆            ┆         │\n",
       "│ pMVj ┆ 39         ┆ 30         ┆ 149        ┆ … ┆ true       ┆ 2015-09-30 ┆ 2015-11-18 ┆ false   │\n",
       "│ PLgV ┆            ┆            ┆            ┆   ┆            ┆            ┆            ┆         │\n",
       "│ knaJ ┆            ┆            ┆            ┆   ┆            ┆            ┆            ┆         │\n",
       "│ Ym9L ┆            ┆            ┆            ┆   ┆            ┆            ┆            ┆         │\n",
       "│ 0xUw ┆            ┆            ┆            ┆   ┆            ┆            ┆            ┆         │\n",
       "│ xA2j ┆            ┆            ┆            ┆   ┆            ┆            ┆            ┆         │\n",
       "│ mhpK ┆            ┆            ┆            ┆   ┆            ┆            ┆            ┆         │\n",
       "│ 7gfh ┆            ┆            ┆            ┆   ┆            ┆            ┆            ┆         │\n",
       "│ …    ┆            ┆            ┆            ┆   ┆            ┆            ┆            ┆         │\n",
       "└──────┴────────────┴────────────┴────────────┴───┴────────────┴────────────┴────────────┴─────────┘"
      ]
     },
     "execution_count": 20,
     "metadata": {},
     "output_type": "execute_result"
    }
   ],
   "source": [
    "transactions_lazy_df.head(10).collect()"
   ]
  },
  {
   "cell_type": "code",
   "execution_count": 21,
   "metadata": {},
   "outputs": [
    {
     "name": "stdout",
     "output_type": "stream",
     "text": [
      "CPU times: user 40.9 s, sys: 3.2 s, total: 44.1 s\n",
      "Wall time: 10.5 s\n"
     ]
    },
    {
     "data": {
      "text/html": [
       "<div><style>\n",
       ".dataframe > thead > tr > th,\n",
       ".dataframe > tbody > tr > td {\n",
       "  text-align: right;\n",
       "}\n",
       "</style>\n",
       "<small>shape: (3096563, 4)</small><table border=\"1\" class=\"dataframe\"><thead><tr><th>msno</th><th>session_id</th><th>session_start_date</th><th>session_end_date</th></tr><tr><td>str</td><td>u32</td><td>date</td><td>date</td></tr></thead><tbody><tr><td>&quot;+++FOrTS7ab3tI…</td><td>0</td><td>2016-09-09</td><td>2016-09-09</td></tr><tr><td>&quot;+++IZseRRiQS9a…</td><td>0</td><td>2015-11-21</td><td>2015-11-21</td></tr><tr><td>&quot;+++hVY1rZox/33…</td><td>0</td><td>2016-11-16</td><td>2017-02-15</td></tr><tr><td>&quot;+++l/EXNMLTijf…</td><td>0</td><td>2015-01-31</td><td>2016-01-31</td></tr><tr><td>&quot;+++l/EXNMLTijf…</td><td>1</td><td>2016-07-31</td><td>2017-01-31</td></tr><tr><td>&quot;+++snpr7pmobhL…</td><td>0</td><td>2015-01-26</td><td>2017-02-26</td></tr><tr><td>&quot;++/9R3sX37Cjxb…</td><td>0</td><td>2016-03-15</td><td>2017-02-15</td></tr><tr><td>&quot;++/Gw1B9K+XOlB…</td><td>0</td><td>2015-01-13</td><td>2015-08-19</td></tr><tr><td>&quot;++/TR7WI15q2ZC…</td><td>0</td><td>2015-01-24</td><td>2015-08-26</td></tr><tr><td>&quot;++/UDNo9DLrxT8…</td><td>0</td><td>2015-01-31</td><td>2016-01-31</td></tr><tr><td>&quot;++/UDNo9DLrxT8…</td><td>1</td><td>2016-07-31</td><td>2017-01-31</td></tr><tr><td>&quot;++/ZHqwUNa7U21…</td><td>0</td><td>2015-03-31</td><td>2015-03-31</td></tr><tr><td>&hellip;</td><td>&hellip;</td><td>&hellip;</td><td>&hellip;</td></tr><tr><td>&quot;zzyuTnRVQQGxs0…</td><td>0</td><td>2015-08-21</td><td>2016-11-21</td></tr><tr><td>&quot;zzz/5bh+8EOZTp…</td><td>0</td><td>2016-02-14</td><td>2016-09-14</td></tr><tr><td>&quot;zzz1Dc3P9s53HA…</td><td>0</td><td>2015-02-13</td><td>2015-06-24</td></tr><tr><td>&quot;zzz1Dc3P9s53HA…</td><td>1</td><td>2015-11-25</td><td>2016-01-31</td></tr><tr><td>&quot;zzz1Dc3P9s53HA…</td><td>2</td><td>2016-07-31</td><td>2017-01-31</td></tr><tr><td>&quot;zzz4xr5LLzoxUq…</td><td>0</td><td>2015-01-04</td><td>2017-01-22</td></tr><tr><td>&quot;zzz672Xpk1wKox…</td><td>0</td><td>2015-06-05</td><td>2015-06-05</td></tr><tr><td>&quot;zzz9+ZF4+GMyt6…</td><td>0</td><td>2015-10-14</td><td>2016-11-03</td></tr><tr><td>&quot;zzzF1KsGfHH3qI…</td><td>0</td><td>2017-02-05</td><td>2017-02-05</td></tr><tr><td>&quot;zzzN9thH22os1d…</td><td>0</td><td>2016-03-04</td><td>2017-02-02</td></tr><tr><td>&quot;zzztsqkufVj9DP…</td><td>0</td><td>2015-06-08</td><td>2015-06-08</td></tr><tr><td>&quot;zzzyOgMk9MljCe…</td><td>0</td><td>2015-06-13</td><td>2015-06-13</td></tr></tbody></table></div>"
      ],
      "text/plain": [
       "shape: (3_096_563, 4)\n",
       "┌───────────────────────────────────┬────────────┬────────────────────┬──────────────────┐\n",
       "│ msno                              ┆ session_id ┆ session_start_date ┆ session_end_date │\n",
       "│ ---                               ┆ ---        ┆ ---                ┆ ---              │\n",
       "│ str                               ┆ u32        ┆ date               ┆ date             │\n",
       "╞═══════════════════════════════════╪════════════╪════════════════════╪══════════════════╡\n",
       "│ +++FOrTS7ab3tIgIh8eWwX4FqRv8w/Fo… ┆ 0          ┆ 2016-09-09         ┆ 2016-09-09       │\n",
       "│ +++IZseRRiQS9aaSkH6cMYU6bGDcxUie… ┆ 0          ┆ 2015-11-21         ┆ 2015-11-21       │\n",
       "│ +++hVY1rZox/33YtvDgmKA2Frg/2qhkz… ┆ 0          ┆ 2016-11-16         ┆ 2017-02-15       │\n",
       "│ +++l/EXNMLTijfLBa8p2TUVVVp2aFGSu… ┆ 0          ┆ 2015-01-31         ┆ 2016-01-31       │\n",
       "│ …                                 ┆ …          ┆ …                  ┆ …                │\n",
       "│ zzzF1KsGfHH3qI6qiSNSXC35UXmVKMVF… ┆ 0          ┆ 2017-02-05         ┆ 2017-02-05       │\n",
       "│ zzzN9thH22os1dRS0VHReY/8FTfGHOi8… ┆ 0          ┆ 2016-03-04         ┆ 2017-02-02       │\n",
       "│ zzztsqkufVj9DPVJDM3FxDkhlbCL5z4a… ┆ 0          ┆ 2015-06-08         ┆ 2015-06-08       │\n",
       "│ zzzyOgMk9MljCerbCCYrVtvu85aSCiy7… ┆ 0          ┆ 2015-06-13         ┆ 2015-06-13       │\n",
       "└───────────────────────────────────┴────────────┴────────────────────┴──────────────────┘"
      ]
     },
     "execution_count": 21,
     "metadata": {},
     "output_type": "execute_result"
    }
   ],
   "source": [
    "def sessionize_pl(df, entity_col, date_col, threshold):\n",
    "    sessionized = (\n",
    "        df.sort([entity_col, date_col])\n",
    "        .with_columns(\n",
    "            [\n",
    "                (pl.col(date_col).diff().over(entity_col).dt.days() > threshold)\n",
    "                .fill_null(False)\n",
    "                .alias(\"is_new_session\"),\n",
    "            ]\n",
    "        )\n",
    "        .with_columns(\n",
    "            [\n",
    "                pl.col(\"is_new_session\").cumsum().over(entity_col).alias(\"session_id\"),\n",
    "            ]\n",
    "        )\n",
    "        .drop([\"is_new_session\"])\n",
    "    )\n",
    "    return sessionized\n",
    "\n",
    "def extract_sessions_pl(df, entity_col, date_col, session_col):\n",
    "    sessions = (\n",
    "        df.groupby([entity_col, session_col])\n",
    "        .agg(\n",
    "            [\n",
    "                pl.col(date_col).min().alias(\"session_start_date\"),\n",
    "                pl.col(date_col).max().alias(\"session_end_date\"),\n",
    "            ]\n",
    "        )\n",
    "        .sort([entity_col, \"session_start_date\"])\n",
    "    )\n",
    "    return sessions\n",
    "\n",
    "\n",
    "def preprocess_transactions_pl(df):\n",
    "    return (\n",
    "        df\n",
    "        .pipe(\n",
    "            sessionize_pl,\n",
    "            entity_col=\"msno\",\n",
    "            date_col=\"transaction_date\",\n",
    "            threshold=60,\n",
    "        )\n",
    "        .pipe(\n",
    "            extract_sessions_pl,\n",
    "            entity_col=\"msno\",\n",
    "            date_col=\"transaction_date\",\n",
    "            session_col=\"session_id\",\n",
    "        )\n",
    "    )\n",
    "\n",
    "\n",
    "%time sessions_collected = preprocess_transactions_pl(transactions_lazy_df).collect()\n",
    "sessions_collected"
   ]
  },
  {
   "cell_type": "code",
   "execution_count": 22,
   "metadata": {},
   "outputs": [
    {
     "data": {
      "text/plain": [
       "(3096563, 4)"
      ]
     },
     "execution_count": 22,
     "metadata": {},
     "output_type": "execute_result"
    }
   ],
   "source": [
    "sessions_collected.shape"
   ]
  },
  {
   "cell_type": "markdown",
   "metadata": {},
   "source": [
    "The following crashes the kernel after after a few minutes:"
   ]
  },
  {
   "cell_type": "code",
   "execution_count": 23,
   "metadata": {},
   "outputs": [],
   "source": [
    "# def preprocess_user_logs_pl(df):\n",
    "#     return (\n",
    "#         df\n",
    "#         .pipe(\n",
    "#             sessionize_pl,\n",
    "#             threshold=2,\n",
    "#             entity_col=\"msno\",\n",
    "#             date_col=\"date\",\n",
    "#         )\n",
    "#         .pipe(\n",
    "#             extract_sessions_pl,\n",
    "#             entity_col=\"msno\",\n",
    "#             date_col=\"date\",\n",
    "#             session_col=\"session_id\",\n",
    "#         )\n",
    "#     )\n",
    "\n",
    "# user_logs_lazy_df = pl.scan_parquet(\"user_logs.parquet\")\n",
    "# %time first_10_user_logs_sessions = preprocess_user_logs_pl(user_logs_lazy_df).head(10).collect()\n",
    "# first_10_user_logs_sessions"
   ]
  }
 ],
 "metadata": {
  "kernelspec": {
   "display_name": "Python 3 (ipykernel)",
   "language": "python",
   "name": "python3"
  },
  "language_info": {
   "codemirror_mode": {
    "name": "ipython",
    "version": 3
   },
   "file_extension": ".py",
   "mimetype": "text/x-python",
   "name": "python",
   "nbconvert_exporter": "python",
   "pygments_lexer": "ipython3",
   "version": "3.11.3"
  }
 },
 "nbformat": 4,
 "nbformat_minor": 4
}
