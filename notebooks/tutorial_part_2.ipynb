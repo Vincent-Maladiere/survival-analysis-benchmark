{
 "cells": [
  {
   "cell_type": "markdown",
   "id": "9734fb20-c1b3-4b0d-b24d-4eb59a7f95d5",
   "metadata": {},
   "source": [
    "# Survival Analysis Tutorial Part 2\n",
    "\n",
    "\n",
    "The goal of this tutorial is to extract implicit failure information from a raw event log using [Ibis](ibis-project.org/) and [DuckDB](https://duckdb.org)"
   ]
  },
  {
   "cell_type": "code",
   "execution_count": 1,
   "id": "c6a2a030-8d13-46c3-bd3e-89769efc02dc",
   "metadata": {
    "tags": []
   },
   "outputs": [
    {
     "data": {
      "text/plain": [
       "'5.1.0'"
      ]
     },
     "execution_count": 1,
     "metadata": {},
     "output_type": "execute_result"
    }
   ],
   "source": [
    "import ibis\n",
    "\n",
    "ibis.options.interactive = True\n",
    "ibis.__version__"
   ]
  },
  {
   "cell_type": "code",
   "execution_count": 2,
   "id": "80a76158-4746-4794-962d-888949eaa00a",
   "metadata": {
    "tags": []
   },
   "outputs": [
    {
     "data": {
      "text/plain": [
       "'0.7.1'"
      ]
     },
     "execution_count": 2,
     "metadata": {},
     "output_type": "execute_result"
    }
   ],
   "source": [
    "import duckdb\n",
    "\n",
    "duckdb.__version__"
   ]
  },
  {
   "cell_type": "code",
   "execution_count": 3,
   "id": "42d8030a-4174-4412-9d1e-9d8ffaf00458",
   "metadata": {
    "tags": []
   },
   "outputs": [
    {
     "name": "stdout",
     "output_type": "stream",
     "text": [
      "Reusing downloaded wowah_data_raw.parquet\n"
     ]
    }
   ],
   "source": [
    "from urllib.request import urlretrieve\n",
    "from pathlib import Path\n",
    "\n",
    "data_filepath = Path(\"wowah_data_raw.parquet\")\n",
    "data_url = (\n",
    "    \"https://storage.googleapis.com/ibis-tutorial-data/wowah_data/\"\n",
    "    \"wowah_data_raw.parquet\"\n",
    ")\n",
    "\n",
    "if not data_filepath.exists():\n",
    "    print(f\"Downloading {data_url}...\")\n",
    "    urlretrieve(data_url, data_filepath)\n",
    "else:\n",
    "    print(f\"Reusing downloaded {data_filepath}\")"
   ]
  },
  {
   "cell_type": "code",
   "execution_count": 4,
   "id": "7a65572c-55aa-467b-a834-9c14881a2dd0",
   "metadata": {
    "tags": []
   },
   "outputs": [
    {
     "data": {
      "text/html": [
       "<pre style=\"white-space:pre;overflow-x:auto;line-height:normal;font-family:Menlo,'DejaVu Sans Mono',consolas,'Courier New',monospace\">┏━━━━━━━┳━━━━━━━┳━━━━━━━━┳━━━━━━━━━━━┳━━━━━━━━━━━━━━━━━━━━━━━━┳━━━━━━━┳━━━━━━━━━━━━━━━━━━━━━┓\n",
       "┃<span style=\"font-weight: bold\"> char  </span>┃<span style=\"font-weight: bold\"> level </span>┃<span style=\"font-weight: bold\"> race   </span>┃<span style=\"font-weight: bold\"> charclass </span>┃<span style=\"font-weight: bold\"> zone                   </span>┃<span style=\"font-weight: bold\"> guild </span>┃<span style=\"font-weight: bold\"> timestamp           </span>┃\n",
       "┡━━━━━━━╇━━━━━━━╇━━━━━━━━╇━━━━━━━━━━━╇━━━━━━━━━━━━━━━━━━━━━━━━╇━━━━━━━╇━━━━━━━━━━━━━━━━━━━━━┩\n",
       "│ <span style=\"color: #7f7f7f; text-decoration-color: #7f7f7f\">int32</span> │ <span style=\"color: #7f7f7f; text-decoration-color: #7f7f7f\">int32</span> │ <span style=\"color: #7f7f7f; text-decoration-color: #7f7f7f\">string</span> │ <span style=\"color: #7f7f7f; text-decoration-color: #7f7f7f\">string</span>    │ <span style=\"color: #7f7f7f; text-decoration-color: #7f7f7f\">string</span>                 │ <span style=\"color: #7f7f7f; text-decoration-color: #7f7f7f\">int32</span> │ <span style=\"color: #7f7f7f; text-decoration-color: #7f7f7f\">timestamp</span>           │\n",
       "├───────┼───────┼────────┼───────────┼────────────────────────┼───────┼─────────────────────┤\n",
       "│ <span style=\"color: #008080; text-decoration-color: #008080; font-weight: bold\">59425</span> │     <span style=\"color: #008080; text-decoration-color: #008080; font-weight: bold\">1</span> │ <span style=\"color: #008000; text-decoration-color: #008000\">Orc   </span> │ <span style=\"color: #008000; text-decoration-color: #008000\">Rogue    </span> │ <span style=\"color: #008000; text-decoration-color: #008000\">Orgrimmar             </span> │   <span style=\"color: #008080; text-decoration-color: #008080; font-weight: bold\">165</span> │ <span style=\"color: #800080; text-decoration-color: #800080\">2008-01-01 00:02:04</span> │\n",
       "│ <span style=\"color: #008080; text-decoration-color: #008080; font-weight: bold\">65494</span> │     <span style=\"color: #008080; text-decoration-color: #008080; font-weight: bold\">9</span> │ <span style=\"color: #008000; text-decoration-color: #008000\">Orc   </span> │ <span style=\"color: #008000; text-decoration-color: #008000\">Hunter   </span> │ <span style=\"color: #008000; text-decoration-color: #008000\">Durotar               </span> │    <span style=\"color: #008080; text-decoration-color: #008080; font-weight: bold\">-1</span> │ <span style=\"color: #800080; text-decoration-color: #800080\">2008-01-01 00:02:04</span> │\n",
       "│ <span style=\"color: #008080; text-decoration-color: #008080; font-weight: bold\">65325</span> │    <span style=\"color: #008080; text-decoration-color: #008080; font-weight: bold\">14</span> │ <span style=\"color: #008000; text-decoration-color: #008000\">Orc   </span> │ <span style=\"color: #008000; text-decoration-color: #008000\">Warrior  </span> │ <span style=\"color: #008000; text-decoration-color: #008000\">Ghostlands            </span> │    <span style=\"color: #008080; text-decoration-color: #008080; font-weight: bold\">-1</span> │ <span style=\"color: #800080; text-decoration-color: #800080\">2008-01-01 00:02:04</span> │\n",
       "│ <span style=\"color: #008080; text-decoration-color: #008080; font-weight: bold\">65490</span> │    <span style=\"color: #008080; text-decoration-color: #008080; font-weight: bold\">18</span> │ <span style=\"color: #008000; text-decoration-color: #008000\">Orc   </span> │ <span style=\"color: #008000; text-decoration-color: #008000\">Hunter   </span> │ <span style=\"color: #008000; text-decoration-color: #008000\">Ghostlands            </span> │    <span style=\"color: #008080; text-decoration-color: #008080; font-weight: bold\">-1</span> │ <span style=\"color: #800080; text-decoration-color: #800080\">2008-01-01 00:02:04</span> │\n",
       "│  <span style=\"color: #008080; text-decoration-color: #008080; font-weight: bold\">2288</span> │    <span style=\"color: #008080; text-decoration-color: #008080; font-weight: bold\">60</span> │ <span style=\"color: #008000; text-decoration-color: #008000\">Orc   </span> │ <span style=\"color: #008000; text-decoration-color: #008000\">Hunter   </span> │ <span style=\"color: #008000; text-decoration-color: #008000\">Hellfire Peninsula    </span> │    <span style=\"color: #008080; text-decoration-color: #008080; font-weight: bold\">-1</span> │ <span style=\"color: #800080; text-decoration-color: #800080\">2008-01-01 00:02:09</span> │\n",
       "│  <span style=\"color: #008080; text-decoration-color: #008080; font-weight: bold\">2289</span> │    <span style=\"color: #008080; text-decoration-color: #008080; font-weight: bold\">60</span> │ <span style=\"color: #008000; text-decoration-color: #008000\">Orc   </span> │ <span style=\"color: #008000; text-decoration-color: #008000\">Hunter   </span> │ <span style=\"color: #008000; text-decoration-color: #008000\">Hellfire Peninsula    </span> │    <span style=\"color: #008080; text-decoration-color: #008080; font-weight: bold\">-1</span> │ <span style=\"color: #800080; text-decoration-color: #800080\">2008-01-01 00:02:09</span> │\n",
       "│ <span style=\"color: #008080; text-decoration-color: #008080; font-weight: bold\">61239</span> │    <span style=\"color: #008080; text-decoration-color: #008080; font-weight: bold\">68</span> │ <span style=\"color: #008000; text-decoration-color: #008000\">Orc   </span> │ <span style=\"color: #008000; text-decoration-color: #008000\">Hunter   </span> │ <span style=\"color: #008000; text-decoration-color: #008000\">Blade's Edge Mountains</span> │   <span style=\"color: #008080; text-decoration-color: #008080; font-weight: bold\">243</span> │ <span style=\"color: #800080; text-decoration-color: #800080\">2008-01-01 00:02:14</span> │\n",
       "│ <span style=\"color: #008080; text-decoration-color: #008080; font-weight: bold\">59772</span> │    <span style=\"color: #008080; text-decoration-color: #008080; font-weight: bold\">69</span> │ <span style=\"color: #008000; text-decoration-color: #008000\">Orc   </span> │ <span style=\"color: #008000; text-decoration-color: #008000\">Warrior  </span> │ <span style=\"color: #008000; text-decoration-color: #008000\">Shadowmoon Valley     </span> │    <span style=\"color: #008080; text-decoration-color: #008080; font-weight: bold\">35</span> │ <span style=\"color: #800080; text-decoration-color: #800080\">2008-01-01 00:02:14</span> │\n",
       "│ <span style=\"color: #008080; text-decoration-color: #008080; font-weight: bold\">22937</span> │    <span style=\"color: #008080; text-decoration-color: #008080; font-weight: bold\">69</span> │ <span style=\"color: #008000; text-decoration-color: #008000\">Orc   </span> │ <span style=\"color: #008000; text-decoration-color: #008000\">Rogue    </span> │ <span style=\"color: #008000; text-decoration-color: #008000\">Warsong Gulch         </span> │   <span style=\"color: #008080; text-decoration-color: #008080; font-weight: bold\">243</span> │ <span style=\"color: #800080; text-decoration-color: #800080\">2008-01-01 00:02:14</span> │\n",
       "│ <span style=\"color: #008080; text-decoration-color: #008080; font-weight: bold\">23062</span> │    <span style=\"color: #008080; text-decoration-color: #008080; font-weight: bold\">69</span> │ <span style=\"color: #008000; text-decoration-color: #008000\">Orc   </span> │ <span style=\"color: #008000; text-decoration-color: #008000\">Shaman   </span> │ <span style=\"color: #008000; text-decoration-color: #008000\">Shattrath City        </span> │   <span style=\"color: #008080; text-decoration-color: #008080; font-weight: bold\">103</span> │ <span style=\"color: #800080; text-decoration-color: #800080\">2008-01-01 00:02:14</span> │\n",
       "│     <span style=\"color: #7f7f7f; text-decoration-color: #7f7f7f\">…</span> │     <span style=\"color: #7f7f7f; text-decoration-color: #7f7f7f\">…</span> │ <span style=\"color: #7f7f7f; text-decoration-color: #7f7f7f\">…</span>      │ <span style=\"color: #7f7f7f; text-decoration-color: #7f7f7f\">…</span>         │ <span style=\"color: #7f7f7f; text-decoration-color: #7f7f7f\">…</span>                      │     <span style=\"color: #7f7f7f; text-decoration-color: #7f7f7f\">…</span> │ <span style=\"color: #7f7f7f; text-decoration-color: #7f7f7f\">…</span>                   │\n",
       "└───────┴───────┴────────┴───────────┴────────────────────────┴───────┴─────────────────────┘\n",
       "</pre>\n"
      ],
      "text/plain": [
       "┏━━━━━━━┳━━━━━━━┳━━━━━━━━┳━━━━━━━━━━━┳━━━━━━━━━━━━━━━━━━━━━━━━┳━━━━━━━┳━━━━━━━━━━━━━━━━━━━━━┓\n",
       "┃\u001b[1m \u001b[0m\u001b[1mchar\u001b[0m\u001b[1m \u001b[0m\u001b[1m \u001b[0m┃\u001b[1m \u001b[0m\u001b[1mlevel\u001b[0m\u001b[1m \u001b[0m┃\u001b[1m \u001b[0m\u001b[1mrace\u001b[0m\u001b[1m  \u001b[0m\u001b[1m \u001b[0m┃\u001b[1m \u001b[0m\u001b[1mcharclass\u001b[0m\u001b[1m \u001b[0m┃\u001b[1m \u001b[0m\u001b[1mzone\u001b[0m\u001b[1m                  \u001b[0m\u001b[1m \u001b[0m┃\u001b[1m \u001b[0m\u001b[1mguild\u001b[0m\u001b[1m \u001b[0m┃\u001b[1m \u001b[0m\u001b[1mtimestamp\u001b[0m\u001b[1m          \u001b[0m\u001b[1m \u001b[0m┃\n",
       "┡━━━━━━━╇━━━━━━━╇━━━━━━━━╇━━━━━━━━━━━╇━━━━━━━━━━━━━━━━━━━━━━━━╇━━━━━━━╇━━━━━━━━━━━━━━━━━━━━━┩\n",
       "│ \u001b[2mint32\u001b[0m │ \u001b[2mint32\u001b[0m │ \u001b[2mstring\u001b[0m │ \u001b[2mstring\u001b[0m    │ \u001b[2mstring\u001b[0m                 │ \u001b[2mint32\u001b[0m │ \u001b[2mtimestamp\u001b[0m           │\n",
       "├───────┼───────┼────────┼───────────┼────────────────────────┼───────┼─────────────────────┤\n",
       "│ \u001b[1;36m59425\u001b[0m │     \u001b[1;36m1\u001b[0m │ \u001b[32mOrc   \u001b[0m │ \u001b[32mRogue    \u001b[0m │ \u001b[32mOrgrimmar             \u001b[0m │   \u001b[1;36m165\u001b[0m │ \u001b[35m2008-01-01 00:02:04\u001b[0m │\n",
       "│ \u001b[1;36m65494\u001b[0m │     \u001b[1;36m9\u001b[0m │ \u001b[32mOrc   \u001b[0m │ \u001b[32mHunter   \u001b[0m │ \u001b[32mDurotar               \u001b[0m │    \u001b[1;36m-1\u001b[0m │ \u001b[35m2008-01-01 00:02:04\u001b[0m │\n",
       "│ \u001b[1;36m65325\u001b[0m │    \u001b[1;36m14\u001b[0m │ \u001b[32mOrc   \u001b[0m │ \u001b[32mWarrior  \u001b[0m │ \u001b[32mGhostlands            \u001b[0m │    \u001b[1;36m-1\u001b[0m │ \u001b[35m2008-01-01 00:02:04\u001b[0m │\n",
       "│ \u001b[1;36m65490\u001b[0m │    \u001b[1;36m18\u001b[0m │ \u001b[32mOrc   \u001b[0m │ \u001b[32mHunter   \u001b[0m │ \u001b[32mGhostlands            \u001b[0m │    \u001b[1;36m-1\u001b[0m │ \u001b[35m2008-01-01 00:02:04\u001b[0m │\n",
       "│  \u001b[1;36m2288\u001b[0m │    \u001b[1;36m60\u001b[0m │ \u001b[32mOrc   \u001b[0m │ \u001b[32mHunter   \u001b[0m │ \u001b[32mHellfire Peninsula    \u001b[0m │    \u001b[1;36m-1\u001b[0m │ \u001b[35m2008-01-01 00:02:09\u001b[0m │\n",
       "│  \u001b[1;36m2289\u001b[0m │    \u001b[1;36m60\u001b[0m │ \u001b[32mOrc   \u001b[0m │ \u001b[32mHunter   \u001b[0m │ \u001b[32mHellfire Peninsula    \u001b[0m │    \u001b[1;36m-1\u001b[0m │ \u001b[35m2008-01-01 00:02:09\u001b[0m │\n",
       "│ \u001b[1;36m61239\u001b[0m │    \u001b[1;36m68\u001b[0m │ \u001b[32mOrc   \u001b[0m │ \u001b[32mHunter   \u001b[0m │ \u001b[32mBlade's Edge Mountains\u001b[0m │   \u001b[1;36m243\u001b[0m │ \u001b[35m2008-01-01 00:02:14\u001b[0m │\n",
       "│ \u001b[1;36m59772\u001b[0m │    \u001b[1;36m69\u001b[0m │ \u001b[32mOrc   \u001b[0m │ \u001b[32mWarrior  \u001b[0m │ \u001b[32mShadowmoon Valley     \u001b[0m │    \u001b[1;36m35\u001b[0m │ \u001b[35m2008-01-01 00:02:14\u001b[0m │\n",
       "│ \u001b[1;36m22937\u001b[0m │    \u001b[1;36m69\u001b[0m │ \u001b[32mOrc   \u001b[0m │ \u001b[32mRogue    \u001b[0m │ \u001b[32mWarsong Gulch         \u001b[0m │   \u001b[1;36m243\u001b[0m │ \u001b[35m2008-01-01 00:02:14\u001b[0m │\n",
       "│ \u001b[1;36m23062\u001b[0m │    \u001b[1;36m69\u001b[0m │ \u001b[32mOrc   \u001b[0m │ \u001b[32mShaman   \u001b[0m │ \u001b[32mShattrath City        \u001b[0m │   \u001b[1;36m103\u001b[0m │ \u001b[35m2008-01-01 00:02:14\u001b[0m │\n",
       "│     \u001b[2m…\u001b[0m │     \u001b[2m…\u001b[0m │ \u001b[2m…\u001b[0m      │ \u001b[2m…\u001b[0m         │ \u001b[2m…\u001b[0m                      │     \u001b[2m…\u001b[0m │ \u001b[2m…\u001b[0m                   │\n",
       "└───────┴───────┴────────┴───────────┴────────────────────────┴───────┴─────────────────────┘"
      ]
     },
     "execution_count": 4,
     "metadata": {},
     "output_type": "execute_result"
    }
   ],
   "source": [
    "conn = ibis.duckdb.connect()  # in-memory DuckDB\n",
    "transactions = conn.read_parquet(data_filepath)\n",
    "transactions"
   ]
  },
  {
   "cell_type": "code",
   "execution_count": 5,
   "id": "f17afa43-4e65-4e79-b623-15e8d697630c",
   "metadata": {
    "tags": []
   },
   "outputs": [
    {
     "data": {
      "text/plain": [
       "10.826734"
      ]
     },
     "execution_count": 5,
     "metadata": {},
     "output_type": "execute_result"
    }
   ],
   "source": [
    "transactions.count().execute() / 1e6"
   ]
  },
  {
   "cell_type": "code",
   "execution_count": 6,
   "id": "85c6ffad-59a6-4195-99b3-f65b3e99a321",
   "metadata": {
    "tags": []
   },
   "outputs": [
    {
     "data": {
      "text/html": [
       "<pre style=\"white-space:pre;overflow-x:auto;line-height:normal;font-family:Menlo,'DejaVu Sans Mono',consolas,'Courier New',monospace\">┏━━━━━━━┳━━━━━━━━━━━━━━━━━━━━━┳━━━━━━━━━━━━━━━━━━━━━┓\n",
       "┃<span style=\"font-weight: bold\"> char  </span>┃<span style=\"font-weight: bold\"> timestamp           </span>┃<span style=\"font-weight: bold\"> deadline_date       </span>┃\n",
       "┡━━━━━━━╇━━━━━━━━━━━━━━━━━━━━━╇━━━━━━━━━━━━━━━━━━━━━┩\n",
       "│ <span style=\"color: #7f7f7f; text-decoration-color: #7f7f7f\">int32</span> │ <span style=\"color: #7f7f7f; text-decoration-color: #7f7f7f\">timestamp</span>           │ <span style=\"color: #7f7f7f; text-decoration-color: #7f7f7f\">timestamp</span>           │\n",
       "├───────┼─────────────────────┼─────────────────────┤\n",
       "│   <span style=\"color: #008080; text-decoration-color: #008080; font-weight: bold\">932</span> │ <span style=\"color: #800080; text-decoration-color: #800080\">2008-01-01 13:52:06</span> │ <span style=\"color: #7f7f7f; text-decoration-color: #7f7f7f\">NULL</span>                │\n",
       "│   <span style=\"color: #008080; text-decoration-color: #008080; font-weight: bold\">932</span> │ <span style=\"color: #800080; text-decoration-color: #800080\">2008-01-11 01:29:29</span> │ <span style=\"color: #800080; text-decoration-color: #800080\">2008-01-01 14:22:06</span> │\n",
       "│   <span style=\"color: #008080; text-decoration-color: #008080; font-weight: bold\">932</span> │ <span style=\"color: #800080; text-decoration-color: #800080\">2008-01-11 01:39:13</span> │ <span style=\"color: #800080; text-decoration-color: #800080\">2008-01-11 01:59:29</span> │\n",
       "│   <span style=\"color: #008080; text-decoration-color: #008080; font-weight: bold\">932</span> │ <span style=\"color: #800080; text-decoration-color: #800080\">2008-01-11 01:48:57</span> │ <span style=\"color: #800080; text-decoration-color: #800080\">2008-01-11 02:09:13</span> │\n",
       "│   <span style=\"color: #008080; text-decoration-color: #008080; font-weight: bold\">932</span> │ <span style=\"color: #800080; text-decoration-color: #800080\">2008-01-11 01:59:29</span> │ <span style=\"color: #800080; text-decoration-color: #800080\">2008-01-11 02:18:57</span> │\n",
       "│   <span style=\"color: #008080; text-decoration-color: #008080; font-weight: bold\">932</span> │ <span style=\"color: #800080; text-decoration-color: #800080\">2008-01-11 02:09:12</span> │ <span style=\"color: #800080; text-decoration-color: #800080\">2008-01-11 02:29:29</span> │\n",
       "│   <span style=\"color: #008080; text-decoration-color: #008080; font-weight: bold\">932</span> │ <span style=\"color: #800080; text-decoration-color: #800080\">2008-01-11 02:18:57</span> │ <span style=\"color: #800080; text-decoration-color: #800080\">2008-01-11 02:39:12</span> │\n",
       "│   <span style=\"color: #008080; text-decoration-color: #008080; font-weight: bold\">932</span> │ <span style=\"color: #800080; text-decoration-color: #800080\">2008-01-11 02:29:28</span> │ <span style=\"color: #800080; text-decoration-color: #800080\">2008-01-11 02:48:57</span> │\n",
       "│   <span style=\"color: #008080; text-decoration-color: #008080; font-weight: bold\">932</span> │ <span style=\"color: #800080; text-decoration-color: #800080\">2008-01-11 02:39:12</span> │ <span style=\"color: #800080; text-decoration-color: #800080\">2008-01-11 02:59:28</span> │\n",
       "│   <span style=\"color: #008080; text-decoration-color: #008080; font-weight: bold\">932</span> │ <span style=\"color: #800080; text-decoration-color: #800080\">2008-01-11 02:48:55</span> │ <span style=\"color: #800080; text-decoration-color: #800080\">2008-01-11 03:09:12</span> │\n",
       "│     <span style=\"color: #7f7f7f; text-decoration-color: #7f7f7f\">…</span> │ <span style=\"color: #7f7f7f; text-decoration-color: #7f7f7f\">…</span>                   │ <span style=\"color: #7f7f7f; text-decoration-color: #7f7f7f\">…</span>                   │\n",
       "└───────┴─────────────────────┴─────────────────────┘\n",
       "</pre>\n"
      ],
      "text/plain": [
       "┏━━━━━━━┳━━━━━━━━━━━━━━━━━━━━━┳━━━━━━━━━━━━━━━━━━━━━┓\n",
       "┃\u001b[1m \u001b[0m\u001b[1mchar\u001b[0m\u001b[1m \u001b[0m\u001b[1m \u001b[0m┃\u001b[1m \u001b[0m\u001b[1mtimestamp\u001b[0m\u001b[1m          \u001b[0m\u001b[1m \u001b[0m┃\u001b[1m \u001b[0m\u001b[1mdeadline_date\u001b[0m\u001b[1m      \u001b[0m\u001b[1m \u001b[0m┃\n",
       "┡━━━━━━━╇━━━━━━━━━━━━━━━━━━━━━╇━━━━━━━━━━━━━━━━━━━━━┩\n",
       "│ \u001b[2mint32\u001b[0m │ \u001b[2mtimestamp\u001b[0m           │ \u001b[2mtimestamp\u001b[0m           │\n",
       "├───────┼─────────────────────┼─────────────────────┤\n",
       "│   \u001b[1;36m932\u001b[0m │ \u001b[35m2008-01-01 13:52:06\u001b[0m │ \u001b[2mNULL\u001b[0m                │\n",
       "│   \u001b[1;36m932\u001b[0m │ \u001b[35m2008-01-11 01:29:29\u001b[0m │ \u001b[35m2008-01-01 14:22:06\u001b[0m │\n",
       "│   \u001b[1;36m932\u001b[0m │ \u001b[35m2008-01-11 01:39:13\u001b[0m │ \u001b[35m2008-01-11 01:59:29\u001b[0m │\n",
       "│   \u001b[1;36m932\u001b[0m │ \u001b[35m2008-01-11 01:48:57\u001b[0m │ \u001b[35m2008-01-11 02:09:13\u001b[0m │\n",
       "│   \u001b[1;36m932\u001b[0m │ \u001b[35m2008-01-11 01:59:29\u001b[0m │ \u001b[35m2008-01-11 02:18:57\u001b[0m │\n",
       "│   \u001b[1;36m932\u001b[0m │ \u001b[35m2008-01-11 02:09:12\u001b[0m │ \u001b[35m2008-01-11 02:29:29\u001b[0m │\n",
       "│   \u001b[1;36m932\u001b[0m │ \u001b[35m2008-01-11 02:18:57\u001b[0m │ \u001b[35m2008-01-11 02:39:12\u001b[0m │\n",
       "│   \u001b[1;36m932\u001b[0m │ \u001b[35m2008-01-11 02:29:28\u001b[0m │ \u001b[35m2008-01-11 02:48:57\u001b[0m │\n",
       "│   \u001b[1;36m932\u001b[0m │ \u001b[35m2008-01-11 02:39:12\u001b[0m │ \u001b[35m2008-01-11 02:59:28\u001b[0m │\n",
       "│   \u001b[1;36m932\u001b[0m │ \u001b[35m2008-01-11 02:48:55\u001b[0m │ \u001b[35m2008-01-11 03:09:12\u001b[0m │\n",
       "│     \u001b[2m…\u001b[0m │ \u001b[2m…\u001b[0m                   │ \u001b[2m…\u001b[0m                   │\n",
       "└───────┴─────────────────────┴─────────────────────┘"
      ]
     },
     "execution_count": 6,
     "metadata": {},
     "output_type": "execute_result"
    }
   ],
   "source": [
    "from ibis import deferred as c\n",
    "\n",
    "\n",
    "entity_window = ibis.cumulative_window(\n",
    "    group_by=c.char, order_by=c.timestamp\n",
    ")\n",
    "threshold = ibis.interval(minutes=30)\n",
    "deadline_date = c.timestamp.lag().over(entity_window) + threshold\n",
    "\n",
    "(\n",
    "    transactions\n",
    "    .select([c.char, c.timestamp])\n",
    "    .mutate(deadline_date=deadline_date)\n",
    ")"
   ]
  },
  {
   "cell_type": "code",
   "execution_count": 7,
   "id": "e400706e-cf80-4a83-b615-c6bca945657e",
   "metadata": {
    "tags": []
   },
   "outputs": [
    {
     "data": {
      "text/html": [
       "<pre style=\"white-space:pre;overflow-x:auto;line-height:normal;font-family:Menlo,'DejaVu Sans Mono',consolas,'Courier New',monospace\">┏━━━━━━━┳━━━━━━━━━━━━━━━━━━━━━┳━━━━━━━━━━━━━━━━┓\n",
       "┃<span style=\"font-weight: bold\"> char  </span>┃<span style=\"font-weight: bold\"> timestamp           </span>┃<span style=\"font-weight: bold\"> is_new_session </span>┃\n",
       "┡━━━━━━━╇━━━━━━━━━━━━━━━━━━━━━╇━━━━━━━━━━━━━━━━┩\n",
       "│ <span style=\"color: #7f7f7f; text-decoration-color: #7f7f7f\">int32</span> │ <span style=\"color: #7f7f7f; text-decoration-color: #7f7f7f\">timestamp</span>           │ <span style=\"color: #7f7f7f; text-decoration-color: #7f7f7f\">boolean</span>        │\n",
       "├───────┼─────────────────────┼────────────────┤\n",
       "│   <span style=\"color: #008080; text-decoration-color: #008080; font-weight: bold\">932</span> │ <span style=\"color: #800080; text-decoration-color: #800080\">2008-01-01 13:52:06</span> │ False          │\n",
       "│   <span style=\"color: #008080; text-decoration-color: #008080; font-weight: bold\">932</span> │ <span style=\"color: #800080; text-decoration-color: #800080\">2008-01-11 01:29:29</span> │ True           │\n",
       "│   <span style=\"color: #008080; text-decoration-color: #008080; font-weight: bold\">932</span> │ <span style=\"color: #800080; text-decoration-color: #800080\">2008-01-11 01:39:13</span> │ False          │\n",
       "│   <span style=\"color: #008080; text-decoration-color: #008080; font-weight: bold\">932</span> │ <span style=\"color: #800080; text-decoration-color: #800080\">2008-01-11 01:48:57</span> │ False          │\n",
       "│   <span style=\"color: #008080; text-decoration-color: #008080; font-weight: bold\">932</span> │ <span style=\"color: #800080; text-decoration-color: #800080\">2008-01-11 01:59:29</span> │ False          │\n",
       "│   <span style=\"color: #008080; text-decoration-color: #008080; font-weight: bold\">932</span> │ <span style=\"color: #800080; text-decoration-color: #800080\">2008-01-11 02:09:12</span> │ False          │\n",
       "│   <span style=\"color: #008080; text-decoration-color: #008080; font-weight: bold\">932</span> │ <span style=\"color: #800080; text-decoration-color: #800080\">2008-01-11 02:18:57</span> │ False          │\n",
       "│   <span style=\"color: #008080; text-decoration-color: #008080; font-weight: bold\">932</span> │ <span style=\"color: #800080; text-decoration-color: #800080\">2008-01-11 02:29:28</span> │ False          │\n",
       "│   <span style=\"color: #008080; text-decoration-color: #008080; font-weight: bold\">932</span> │ <span style=\"color: #800080; text-decoration-color: #800080\">2008-01-11 02:39:12</span> │ False          │\n",
       "│   <span style=\"color: #008080; text-decoration-color: #008080; font-weight: bold\">932</span> │ <span style=\"color: #800080; text-decoration-color: #800080\">2008-01-11 02:48:55</span> │ False          │\n",
       "│     <span style=\"color: #7f7f7f; text-decoration-color: #7f7f7f\">…</span> │ <span style=\"color: #7f7f7f; text-decoration-color: #7f7f7f\">…</span>                   │ <span style=\"color: #7f7f7f; text-decoration-color: #7f7f7f\">…</span>              │\n",
       "└───────┴─────────────────────┴────────────────┘\n",
       "</pre>\n"
      ],
      "text/plain": [
       "┏━━━━━━━┳━━━━━━━━━━━━━━━━━━━━━┳━━━━━━━━━━━━━━━━┓\n",
       "┃\u001b[1m \u001b[0m\u001b[1mchar\u001b[0m\u001b[1m \u001b[0m\u001b[1m \u001b[0m┃\u001b[1m \u001b[0m\u001b[1mtimestamp\u001b[0m\u001b[1m          \u001b[0m\u001b[1m \u001b[0m┃\u001b[1m \u001b[0m\u001b[1mis_new_session\u001b[0m\u001b[1m \u001b[0m┃\n",
       "┡━━━━━━━╇━━━━━━━━━━━━━━━━━━━━━╇━━━━━━━━━━━━━━━━┩\n",
       "│ \u001b[2mint32\u001b[0m │ \u001b[2mtimestamp\u001b[0m           │ \u001b[2mboolean\u001b[0m        │\n",
       "├───────┼─────────────────────┼────────────────┤\n",
       "│   \u001b[1;36m932\u001b[0m │ \u001b[35m2008-01-01 13:52:06\u001b[0m │ False          │\n",
       "│   \u001b[1;36m932\u001b[0m │ \u001b[35m2008-01-11 01:29:29\u001b[0m │ True           │\n",
       "│   \u001b[1;36m932\u001b[0m │ \u001b[35m2008-01-11 01:39:13\u001b[0m │ False          │\n",
       "│   \u001b[1;36m932\u001b[0m │ \u001b[35m2008-01-11 01:48:57\u001b[0m │ False          │\n",
       "│   \u001b[1;36m932\u001b[0m │ \u001b[35m2008-01-11 01:59:29\u001b[0m │ False          │\n",
       "│   \u001b[1;36m932\u001b[0m │ \u001b[35m2008-01-11 02:09:12\u001b[0m │ False          │\n",
       "│   \u001b[1;36m932\u001b[0m │ \u001b[35m2008-01-11 02:18:57\u001b[0m │ False          │\n",
       "│   \u001b[1;36m932\u001b[0m │ \u001b[35m2008-01-11 02:29:28\u001b[0m │ False          │\n",
       "│   \u001b[1;36m932\u001b[0m │ \u001b[35m2008-01-11 02:39:12\u001b[0m │ False          │\n",
       "│   \u001b[1;36m932\u001b[0m │ \u001b[35m2008-01-11 02:48:55\u001b[0m │ False          │\n",
       "│     \u001b[2m…\u001b[0m │ \u001b[2m…\u001b[0m                   │ \u001b[2m…\u001b[0m              │\n",
       "└───────┴─────────────────────┴────────────────┘"
      ]
     },
     "execution_count": 7,
     "metadata": {},
     "output_type": "execute_result"
    }
   ],
   "source": [
    "(\n",
    "    transactions\n",
    "    .select([c.char, c.timestamp])\n",
    "    .mutate(\n",
    "        is_new_session=(c.timestamp > deadline_date).fillna(False)\n",
    "    )\n",
    ")"
   ]
  },
  {
   "cell_type": "code",
   "execution_count": 8,
   "id": "ce1b5af7-600d-4a60-a187-c22932dab0d7",
   "metadata": {
    "tags": []
   },
   "outputs": [
    {
     "data": {
      "text/html": [
       "<pre style=\"white-space:pre;overflow-x:auto;line-height:normal;font-family:Menlo,'DejaVu Sans Mono',consolas,'Courier New',monospace\">┏━━━━━━━┳━━━━━━━━━━━━━━━━━━━━━┳━━━━━━━━━━━━━━━━┳━━━━━━━━━━━━┓\n",
       "┃<span style=\"font-weight: bold\"> char  </span>┃<span style=\"font-weight: bold\"> timestamp           </span>┃<span style=\"font-weight: bold\"> is_new_session </span>┃<span style=\"font-weight: bold\"> session_id </span>┃\n",
       "┡━━━━━━━╇━━━━━━━━━━━━━━━━━━━━━╇━━━━━━━━━━━━━━━━╇━━━━━━━━━━━━┩\n",
       "│ <span style=\"color: #7f7f7f; text-decoration-color: #7f7f7f\">int32</span> │ <span style=\"color: #7f7f7f; text-decoration-color: #7f7f7f\">timestamp</span>           │ <span style=\"color: #7f7f7f; text-decoration-color: #7f7f7f\">boolean</span>        │ <span style=\"color: #7f7f7f; text-decoration-color: #7f7f7f\">int64</span>      │\n",
       "├───────┼─────────────────────┼────────────────┼────────────┤\n",
       "│   <span style=\"color: #008080; text-decoration-color: #008080; font-weight: bold\">932</span> │ <span style=\"color: #800080; text-decoration-color: #800080\">2008-01-01 13:52:06</span> │ False          │          <span style=\"color: #008080; text-decoration-color: #008080; font-weight: bold\">0</span> │\n",
       "│   <span style=\"color: #008080; text-decoration-color: #008080; font-weight: bold\">932</span> │ <span style=\"color: #800080; text-decoration-color: #800080\">2008-01-11 01:29:29</span> │ True           │          <span style=\"color: #008080; text-decoration-color: #008080; font-weight: bold\">1</span> │\n",
       "│   <span style=\"color: #008080; text-decoration-color: #008080; font-weight: bold\">932</span> │ <span style=\"color: #800080; text-decoration-color: #800080\">2008-01-11 01:39:13</span> │ False          │          <span style=\"color: #008080; text-decoration-color: #008080; font-weight: bold\">1</span> │\n",
       "│   <span style=\"color: #008080; text-decoration-color: #008080; font-weight: bold\">932</span> │ <span style=\"color: #800080; text-decoration-color: #800080\">2008-01-11 01:48:57</span> │ False          │          <span style=\"color: #008080; text-decoration-color: #008080; font-weight: bold\">1</span> │\n",
       "│   <span style=\"color: #008080; text-decoration-color: #008080; font-weight: bold\">932</span> │ <span style=\"color: #800080; text-decoration-color: #800080\">2008-01-11 01:59:29</span> │ False          │          <span style=\"color: #008080; text-decoration-color: #008080; font-weight: bold\">1</span> │\n",
       "│   <span style=\"color: #008080; text-decoration-color: #008080; font-weight: bold\">932</span> │ <span style=\"color: #800080; text-decoration-color: #800080\">2008-01-11 02:09:12</span> │ False          │          <span style=\"color: #008080; text-decoration-color: #008080; font-weight: bold\">1</span> │\n",
       "│   <span style=\"color: #008080; text-decoration-color: #008080; font-weight: bold\">932</span> │ <span style=\"color: #800080; text-decoration-color: #800080\">2008-01-11 02:18:57</span> │ False          │          <span style=\"color: #008080; text-decoration-color: #008080; font-weight: bold\">1</span> │\n",
       "│   <span style=\"color: #008080; text-decoration-color: #008080; font-weight: bold\">932</span> │ <span style=\"color: #800080; text-decoration-color: #800080\">2008-01-11 02:29:28</span> │ False          │          <span style=\"color: #008080; text-decoration-color: #008080; font-weight: bold\">1</span> │\n",
       "│   <span style=\"color: #008080; text-decoration-color: #008080; font-weight: bold\">932</span> │ <span style=\"color: #800080; text-decoration-color: #800080\">2008-01-11 02:39:12</span> │ False          │          <span style=\"color: #008080; text-decoration-color: #008080; font-weight: bold\">1</span> │\n",
       "│   <span style=\"color: #008080; text-decoration-color: #008080; font-weight: bold\">932</span> │ <span style=\"color: #800080; text-decoration-color: #800080\">2008-01-11 02:48:55</span> │ False          │          <span style=\"color: #008080; text-decoration-color: #008080; font-weight: bold\">1</span> │\n",
       "│     <span style=\"color: #7f7f7f; text-decoration-color: #7f7f7f\">…</span> │ <span style=\"color: #7f7f7f; text-decoration-color: #7f7f7f\">…</span>                   │ <span style=\"color: #7f7f7f; text-decoration-color: #7f7f7f\">…</span>              │          <span style=\"color: #7f7f7f; text-decoration-color: #7f7f7f\">…</span> │\n",
       "└───────┴─────────────────────┴────────────────┴────────────┘\n",
       "</pre>\n"
      ],
      "text/plain": [
       "┏━━━━━━━┳━━━━━━━━━━━━━━━━━━━━━┳━━━━━━━━━━━━━━━━┳━━━━━━━━━━━━┓\n",
       "┃\u001b[1m \u001b[0m\u001b[1mchar\u001b[0m\u001b[1m \u001b[0m\u001b[1m \u001b[0m┃\u001b[1m \u001b[0m\u001b[1mtimestamp\u001b[0m\u001b[1m          \u001b[0m\u001b[1m \u001b[0m┃\u001b[1m \u001b[0m\u001b[1mis_new_session\u001b[0m\u001b[1m \u001b[0m┃\u001b[1m \u001b[0m\u001b[1msession_id\u001b[0m\u001b[1m \u001b[0m┃\n",
       "┡━━━━━━━╇━━━━━━━━━━━━━━━━━━━━━╇━━━━━━━━━━━━━━━━╇━━━━━━━━━━━━┩\n",
       "│ \u001b[2mint32\u001b[0m │ \u001b[2mtimestamp\u001b[0m           │ \u001b[2mboolean\u001b[0m        │ \u001b[2mint64\u001b[0m      │\n",
       "├───────┼─────────────────────┼────────────────┼────────────┤\n",
       "│   \u001b[1;36m932\u001b[0m │ \u001b[35m2008-01-01 13:52:06\u001b[0m │ False          │          \u001b[1;36m0\u001b[0m │\n",
       "│   \u001b[1;36m932\u001b[0m │ \u001b[35m2008-01-11 01:29:29\u001b[0m │ True           │          \u001b[1;36m1\u001b[0m │\n",
       "│   \u001b[1;36m932\u001b[0m │ \u001b[35m2008-01-11 01:39:13\u001b[0m │ False          │          \u001b[1;36m1\u001b[0m │\n",
       "│   \u001b[1;36m932\u001b[0m │ \u001b[35m2008-01-11 01:48:57\u001b[0m │ False          │          \u001b[1;36m1\u001b[0m │\n",
       "│   \u001b[1;36m932\u001b[0m │ \u001b[35m2008-01-11 01:59:29\u001b[0m │ False          │          \u001b[1;36m1\u001b[0m │\n",
       "│   \u001b[1;36m932\u001b[0m │ \u001b[35m2008-01-11 02:09:12\u001b[0m │ False          │          \u001b[1;36m1\u001b[0m │\n",
       "│   \u001b[1;36m932\u001b[0m │ \u001b[35m2008-01-11 02:18:57\u001b[0m │ False          │          \u001b[1;36m1\u001b[0m │\n",
       "│   \u001b[1;36m932\u001b[0m │ \u001b[35m2008-01-11 02:29:28\u001b[0m │ False          │          \u001b[1;36m1\u001b[0m │\n",
       "│   \u001b[1;36m932\u001b[0m │ \u001b[35m2008-01-11 02:39:12\u001b[0m │ False          │          \u001b[1;36m1\u001b[0m │\n",
       "│   \u001b[1;36m932\u001b[0m │ \u001b[35m2008-01-11 02:48:55\u001b[0m │ False          │          \u001b[1;36m1\u001b[0m │\n",
       "│     \u001b[2m…\u001b[0m │ \u001b[2m…\u001b[0m                   │ \u001b[2m…\u001b[0m              │          \u001b[2m…\u001b[0m │\n",
       "└───────┴─────────────────────┴────────────────┴────────────┘"
      ]
     },
     "execution_count": 8,
     "metadata": {},
     "output_type": "execute_result"
    }
   ],
   "source": [
    "(\n",
    "    transactions\n",
    "    .select([c.char, c.timestamp])\n",
    "    .mutate(\n",
    "        is_new_session=(c.timestamp > deadline_date).fillna(False)\n",
    "    )\n",
    "    .mutate(session_id=c.is_new_session.sum().over(entity_window))\n",
    ")"
   ]
  },
  {
   "cell_type": "code",
   "execution_count": 9,
   "id": "6b1aa35b-47d7-43bd-8f8a-88d8c9927eba",
   "metadata": {
    "tags": []
   },
   "outputs": [
    {
     "data": {
      "text/plain": [
       "1.142606"
      ]
     },
     "execution_count": 9,
     "metadata": {},
     "output_type": "execute_result"
    }
   ],
   "source": [
    "entity_window = ibis.cumulative_window(\n",
    "    group_by=c.char, order_by=c.timestamp\n",
    ")\n",
    "threshold = ibis.interval(minutes=30)\n",
    "deadline_date = c.timestamp.lag().over(entity_window) + threshold\n",
    "is_new_session = (c.timestamp > deadline_date).fillna(False)\n",
    "\n",
    "sessionized = (\n",
    "    transactions\n",
    "    .mutate(is_new_session=is_new_session)\n",
    "    .mutate(session_id=c.is_new_session.sum().over(entity_window))\n",
    "    .drop(\"is_new_session\")\n",
    ")\n",
    "sessions = (\n",
    "    sessionized\n",
    "    .group_by([c.char, c.session_id])\n",
    "    .aggregate(\n",
    "        session_start_date=c.timestamp.min(),\n",
    "        session_end_date=c.timestamp.max(),\n",
    "    )\n",
    "    .order_by([c.char, c.session_start_date])\n",
    ")\n",
    "sessions.count().execute() / 1e6"
   ]
  },
  {
   "cell_type": "code",
   "execution_count": 10,
   "id": "aa41f112-74d0-42cf-9de0-25743fef16f0",
   "metadata": {
    "tags": []
   },
   "outputs": [],
   "source": [
    "# ibis.show_sql(sessions)"
   ]
  },
  {
   "cell_type": "code",
   "execution_count": 11,
   "id": "11e1e9ff-72d5-4836-8462-bcc65d20f424",
   "metadata": {
    "tags": []
   },
   "outputs": [],
   "source": [
    "def sessionize(table, threshold, entity_col, date_col):\n",
    "    entity_window = ibis.cumulative_window(\n",
    "        group_by=entity_col, order_by=date_col\n",
    "    )\n",
    "    deadline_date = date_col.lag().over(entity_window) + threshold\n",
    "    is_new_session = (date_col > deadline_date).fillna(False)\n",
    "\n",
    "    return (\n",
    "        table\n",
    "        .mutate(is_new_session=is_new_session)\n",
    "        .mutate(session_id=c.is_new_session.sum().over(entity_window))\n",
    "        .drop(\"is_new_session\")\n",
    "    )\n",
    "\n",
    "\n",
    "def extract_sessions(table, entity_col, date_col, session_col):\n",
    "    return (\n",
    "        table\n",
    "        .group_by([entity_col, session_col])\n",
    "        .aggregate(\n",
    "            session_start_date=date_col.min(),\n",
    "            session_end_date=date_col.max(),\n",
    "        )\n",
    "        .order_by([entity_col, c.session_start_date])\n",
    "    )\n",
    "\n",
    "\n",
    "def preprocess_transactions(transactions):\n",
    "    return (\n",
    "        transactions\n",
    "        .pipe(\n",
    "            sessionize,\n",
    "            threshold=ibis.interval(minutes=30),\n",
    "            entity_col=c.char,\n",
    "            date_col=c.timestamp,\n",
    "        )\n",
    "        .pipe(\n",
    "            extract_sessions,\n",
    "            entity_col=c.char,\n",
    "            date_col=c.timestamp,\n",
    "            session_col=c.session_id,\n",
    "        )\n",
    "    )"
   ]
  },
  {
   "cell_type": "code",
   "execution_count": 12,
   "id": "ab151d0e-dd53-4964-9327-079740468bbb",
   "metadata": {
    "tags": []
   },
   "outputs": [
    {
     "name": "stdout",
     "output_type": "stream",
     "text": [
      "CPU times: user 13.7 s, sys: 571 ms, total: 14.3 s\n",
      "Wall time: 3.94 s\n"
     ]
    },
    {
     "data": {
      "text/plain": [
       "1.142606"
      ]
     },
     "execution_count": 12,
     "metadata": {},
     "output_type": "execute_result"
    }
   ],
   "source": [
    "sessions = preprocess_transactions(transactions)\n",
    "%time sessions.count().execute() / 1e6"
   ]
  },
  {
   "cell_type": "code",
   "execution_count": 13,
   "id": "be26ad8a-619c-486a-a459-d18cfeb81e89",
   "metadata": {
    "tags": []
   },
   "outputs": [
    {
     "name": "stdout",
     "output_type": "stream",
     "text": [
      "CPU times: user 14.8 s, sys: 575 ms, total: 15.4 s\n",
      "Wall time: 5.88 s\n"
     ]
    },
    {
     "data": {
      "text/html": [
       "<div>\n",
       "<style scoped>\n",
       "    .dataframe tbody tr th:only-of-type {\n",
       "        vertical-align: middle;\n",
       "    }\n",
       "\n",
       "    .dataframe tbody tr th {\n",
       "        vertical-align: top;\n",
       "    }\n",
       "\n",
       "    .dataframe thead th {\n",
       "        text-align: right;\n",
       "    }\n",
       "</style>\n",
       "<table border=\"1\" class=\"dataframe\">\n",
       "  <thead>\n",
       "    <tr style=\"text-align: right;\">\n",
       "      <th></th>\n",
       "      <th>char</th>\n",
       "      <th>session_id</th>\n",
       "      <th>session_start_date</th>\n",
       "      <th>session_end_date</th>\n",
       "    </tr>\n",
       "  </thead>\n",
       "  <tbody>\n",
       "    <tr>\n",
       "      <th>0</th>\n",
       "      <td>2</td>\n",
       "      <td>0</td>\n",
       "      <td>2008-12-03 10:41:47</td>\n",
       "      <td>2008-12-03 10:41:47</td>\n",
       "    </tr>\n",
       "    <tr>\n",
       "      <th>1</th>\n",
       "      <td>7</td>\n",
       "      <td>0</td>\n",
       "      <td>2008-01-15 21:47:09</td>\n",
       "      <td>2008-01-16 00:26:56</td>\n",
       "    </tr>\n",
       "    <tr>\n",
       "      <th>2</th>\n",
       "      <td>7</td>\n",
       "      <td>1</td>\n",
       "      <td>2008-01-16 21:57:02</td>\n",
       "      <td>2008-01-17 01:16:49</td>\n",
       "    </tr>\n",
       "    <tr>\n",
       "      <th>3</th>\n",
       "      <td>7</td>\n",
       "      <td>2</td>\n",
       "      <td>2008-01-17 18:47:07</td>\n",
       "      <td>2008-01-18 00:07:32</td>\n",
       "    </tr>\n",
       "    <tr>\n",
       "      <th>4</th>\n",
       "      <td>7</td>\n",
       "      <td>3</td>\n",
       "      <td>2008-01-18 23:17:13</td>\n",
       "      <td>2008-01-19 01:47:16</td>\n",
       "    </tr>\n",
       "    <tr>\n",
       "      <th>...</th>\n",
       "      <td>...</td>\n",
       "      <td>...</td>\n",
       "      <td>...</td>\n",
       "      <td>...</td>\n",
       "    </tr>\n",
       "    <tr>\n",
       "      <th>1142601</th>\n",
       "      <td>90576</td>\n",
       "      <td>0</td>\n",
       "      <td>2008-12-31 22:06:58</td>\n",
       "      <td>2008-12-31 23:07:13</td>\n",
       "    </tr>\n",
       "    <tr>\n",
       "      <th>1142602</th>\n",
       "      <td>90577</td>\n",
       "      <td>0</td>\n",
       "      <td>2008-12-31 22:17:35</td>\n",
       "      <td>2008-12-31 22:47:54</td>\n",
       "    </tr>\n",
       "    <tr>\n",
       "      <th>1142603</th>\n",
       "      <td>90578</td>\n",
       "      <td>0</td>\n",
       "      <td>2008-12-31 22:32:52</td>\n",
       "      <td>2008-12-31 22:32:52</td>\n",
       "    </tr>\n",
       "    <tr>\n",
       "      <th>1142604</th>\n",
       "      <td>90579</td>\n",
       "      <td>0</td>\n",
       "      <td>2008-12-31 22:44:45</td>\n",
       "      <td>2008-12-31 22:44:45</td>\n",
       "    </tr>\n",
       "    <tr>\n",
       "      <th>1142605</th>\n",
       "      <td>90580</td>\n",
       "      <td>0</td>\n",
       "      <td>2008-12-31 23:15:20</td>\n",
       "      <td>2008-12-31 23:15:20</td>\n",
       "    </tr>\n",
       "  </tbody>\n",
       "</table>\n",
       "<p>1142606 rows × 4 columns</p>\n",
       "</div>"
      ],
      "text/plain": [
       "          char  session_id  session_start_date    session_end_date\n",
       "0            2           0 2008-12-03 10:41:47 2008-12-03 10:41:47\n",
       "1            7           0 2008-01-15 21:47:09 2008-01-16 00:26:56\n",
       "2            7           1 2008-01-16 21:57:02 2008-01-17 01:16:49\n",
       "3            7           2 2008-01-17 18:47:07 2008-01-18 00:07:32\n",
       "4            7           3 2008-01-18 23:17:13 2008-01-19 01:47:16\n",
       "...        ...         ...                 ...                 ...\n",
       "1142601  90576           0 2008-12-31 22:06:58 2008-12-31 23:07:13\n",
       "1142602  90577           0 2008-12-31 22:17:35 2008-12-31 22:47:54\n",
       "1142603  90578           0 2008-12-31 22:32:52 2008-12-31 22:32:52\n",
       "1142604  90579           0 2008-12-31 22:44:45 2008-12-31 22:44:45\n",
       "1142605  90580           0 2008-12-31 23:15:20 2008-12-31 23:15:20\n",
       "\n",
       "[1142606 rows x 4 columns]"
      ]
     },
     "execution_count": 13,
     "metadata": {},
     "output_type": "execute_result"
    }
   ],
   "source": [
    "%time sessions_df = sessions.to_pandas()\n",
    "sessions_df"
   ]
  },
  {
   "cell_type": "code",
   "execution_count": 14,
   "id": "42e0ed3e-a338-4bcc-9ec2-1e0cb84d1c09",
   "metadata": {
    "tags": []
   },
   "outputs": [],
   "source": [
    "# ibis.show_sql(preprocess_transactions(transactions))"
   ]
  },
  {
   "cell_type": "code",
   "execution_count": 15,
   "id": "9660fceb-3fbf-4637-b176-facde0559083",
   "metadata": {
    "tags": []
   },
   "outputs": [
    {
     "data": {
      "text/plain": [
       "'0.17.11'"
      ]
     },
     "execution_count": 15,
     "metadata": {},
     "output_type": "execute_result"
    }
   ],
   "source": [
    "import polars as pl\n",
    "\n",
    "\n",
    "pl.__version__"
   ]
  },
  {
   "cell_type": "code",
   "execution_count": 16,
   "id": "6cb7928a-86bc-4847-b531-8dc1da12d0de",
   "metadata": {
    "tags": []
   },
   "outputs": [
    {
     "data": {
      "text/html": [
       "<div><style>\n",
       ".dataframe > thead > tr > th,\n",
       ".dataframe > tbody > tr > td {\n",
       "  text-align: right;\n",
       "}\n",
       "</style>\n",
       "<small>shape: (5, 7)</small><table border=\"1\" class=\"dataframe\"><thead><tr><th>char</th><th>level</th><th>race</th><th>charclass</th><th>zone</th><th>guild</th><th>timestamp</th></tr><tr><td>i32</td><td>i32</td><td>str</td><td>str</td><td>str</td><td>i32</td><td>datetime[μs]</td></tr></thead><tbody><tr><td>59425</td><td>1</td><td>&quot;Orc&quot;</td><td>&quot;Rogue&quot;</td><td>&quot;Orgrimmar&quot;</td><td>165</td><td>2008-01-01 00:02:04</td></tr><tr><td>65494</td><td>9</td><td>&quot;Orc&quot;</td><td>&quot;Hunter&quot;</td><td>&quot;Durotar&quot;</td><td>-1</td><td>2008-01-01 00:02:04</td></tr><tr><td>65325</td><td>14</td><td>&quot;Orc&quot;</td><td>&quot;Warrior&quot;</td><td>&quot;Ghostlands&quot;</td><td>-1</td><td>2008-01-01 00:02:04</td></tr><tr><td>65490</td><td>18</td><td>&quot;Orc&quot;</td><td>&quot;Hunter&quot;</td><td>&quot;Ghostlands&quot;</td><td>-1</td><td>2008-01-01 00:02:04</td></tr><tr><td>2288</td><td>60</td><td>&quot;Orc&quot;</td><td>&quot;Hunter&quot;</td><td>&quot;Hellfire Penin…</td><td>-1</td><td>2008-01-01 00:02:09</td></tr></tbody></table></div>"
      ],
      "text/plain": [
       "shape: (5, 7)\n",
       "┌───────┬───────┬──────┬───────────┬────────────────────┬───────┬─────────────────────┐\n",
       "│ char  ┆ level ┆ race ┆ charclass ┆ zone               ┆ guild ┆ timestamp           │\n",
       "│ ---   ┆ ---   ┆ ---  ┆ ---       ┆ ---                ┆ ---   ┆ ---                 │\n",
       "│ i32   ┆ i32   ┆ str  ┆ str       ┆ str                ┆ i32   ┆ datetime[μs]        │\n",
       "╞═══════╪═══════╪══════╪═══════════╪════════════════════╪═══════╪═════════════════════╡\n",
       "│ 59425 ┆ 1     ┆ Orc  ┆ Rogue     ┆ Orgrimmar          ┆ 165   ┆ 2008-01-01 00:02:04 │\n",
       "│ 65494 ┆ 9     ┆ Orc  ┆ Hunter    ┆ Durotar            ┆ -1    ┆ 2008-01-01 00:02:04 │\n",
       "│ 65325 ┆ 14    ┆ Orc  ┆ Warrior   ┆ Ghostlands         ┆ -1    ┆ 2008-01-01 00:02:04 │\n",
       "│ 65490 ┆ 18    ┆ Orc  ┆ Hunter    ┆ Ghostlands         ┆ -1    ┆ 2008-01-01 00:02:04 │\n",
       "│ 2288  ┆ 60    ┆ Orc  ┆ Hunter    ┆ Hellfire Peninsula ┆ -1    ┆ 2008-01-01 00:02:09 │\n",
       "└───────┴───────┴──────┴───────────┴────────────────────┴───────┴─────────────────────┘"
      ]
     },
     "execution_count": 16,
     "metadata": {},
     "output_type": "execute_result"
    }
   ],
   "source": [
    "transactions_df = pl.read_parquet(data_filepath)\n",
    "transactions_df.head(5)"
   ]
  },
  {
   "cell_type": "code",
   "execution_count": 17,
   "id": "3a22e79b-035b-49ea-9fd6-4d5910110fac",
   "metadata": {
    "tags": []
   },
   "outputs": [
    {
     "data": {
      "text/html": [
       "<h4>NAIVE QUERY PLAN</h4><p>run <b>LazyFrame.show_graph()</b> to see the optimized version</p><?xml version=\"1.0\" encoding=\"UTF-8\" standalone=\"no\"?>\n",
       "<!DOCTYPE svg PUBLIC \"-//W3C//DTD SVG 1.1//EN\"\n",
       " \"http://www.w3.org/Graphics/SVG/1.1/DTD/svg11.dtd\">\n",
       "<!-- Generated by graphviz version 8.0.4 (0)\n",
       " -->\n",
       "<!-- Title: polars_query Pages: 1 -->\n",
       "<svg width=\"272pt\" height=\"138pt\"\n",
       " viewBox=\"0.00 0.00 271.50 137.50\" xmlns=\"http://www.w3.org/2000/svg\" xmlns:xlink=\"http://www.w3.org/1999/xlink\">\n",
       "<g id=\"graph0\" class=\"graph\" transform=\"scale(1 1) rotate(0) translate(4 133.5)\">\n",
       "<title>polars_query</title>\n",
       "<polygon fill=\"white\" stroke=\"none\" points=\"-4,4 -4,-133.5 267.5,-133.5 267.5,4 -4,4\"/>\n",
       "<!-- SLICE offset: 0; len: 10 [(0, 0)] -->\n",
       "<g id=\"node1\" class=\"node\">\n",
       "<title>SLICE offset: 0; len: 10 [(0, 0)]</title>\n",
       "<polygon fill=\"none\" stroke=\"black\" points=\"205.38,-129.5 58.12,-129.5 58.12,-93.5 205.38,-93.5 205.38,-129.5\"/>\n",
       "<text text-anchor=\"middle\" x=\"131.75\" y=\"-106.45\" font-family=\"Times,serif\" font-size=\"14.00\">SLICE offset: 0; len: 10</text>\n",
       "</g>\n",
       "<!-- PARQUET SCAN wowah_data_raw.parquet;\n",
       "π */7;\n",
       "σ &#45; [(0, 1)] -->\n",
       "<g id=\"node2\" class=\"node\">\n",
       "<title>PARQUET SCAN wowah_data_raw.parquet;\n",
       "π */7;\n",
       "σ &#45; [(0, 1)]</title>\n",
       "<polygon fill=\"none\" stroke=\"black\" points=\"263.5,-57.5 0,-57.5 0,0 263.5,0 263.5,-57.5\"/>\n",
       "<text text-anchor=\"middle\" x=\"131.75\" y=\"-40.2\" font-family=\"Times,serif\" font-size=\"14.00\">PARQUET SCAN wowah_data_raw.parquet;</text>\n",
       "<text text-anchor=\"middle\" x=\"131.75\" y=\"-23.7\" font-family=\"Times,serif\" font-size=\"14.00\">π */7;</text>\n",
       "<text text-anchor=\"middle\" x=\"131.75\" y=\"-7.2\" font-family=\"Times,serif\" font-size=\"14.00\">σ &#45;</text>\n",
       "</g>\n",
       "<!-- SLICE offset: 0; len: 10 [(0, 0)]&#45;&#45;PARQUET SCAN wowah_data_raw.parquet;\n",
       "π */7;\n",
       "σ &#45; [(0, 1)] -->\n",
       "<g id=\"edge1\" class=\"edge\">\n",
       "<title>SLICE offset: 0; len: 10 [(0, 0)]&#45;&#45;PARQUET SCAN wowah_data_raw.parquet;\n",
       "π */7;\n",
       "σ &#45; [(0, 1)]</title>\n",
       "<path fill=\"none\" stroke=\"black\" d=\"M131.75,-93.38C131.75,-83.1 131.75,-69.77 131.75,-57.97\"/>\n",
       "</g>\n",
       "</g>\n",
       "</svg>\n"
      ],
      "text/plain": [
       "<polars.LazyFrame object at 0x1174B1D10>"
      ]
     },
     "execution_count": 17,
     "metadata": {},
     "output_type": "execute_result"
    }
   ],
   "source": [
    "transactions_lazy_df = pl.scan_parquet(data_filepath)\n",
    "transactions_lazy_df.head(10)"
   ]
  },
  {
   "cell_type": "code",
   "execution_count": 18,
   "id": "4a4a602e-cfa0-481f-8f23-f82da3efd965",
   "metadata": {
    "tags": []
   },
   "outputs": [
    {
     "data": {
      "text/html": [
       "<div><style>\n",
       ".dataframe > thead > tr > th,\n",
       ".dataframe > tbody > tr > td {\n",
       "  text-align: right;\n",
       "}\n",
       "</style>\n",
       "<small>shape: (10, 7)</small><table border=\"1\" class=\"dataframe\"><thead><tr><th>char</th><th>level</th><th>race</th><th>charclass</th><th>zone</th><th>guild</th><th>timestamp</th></tr><tr><td>i32</td><td>i32</td><td>str</td><td>str</td><td>str</td><td>i32</td><td>datetime[μs]</td></tr></thead><tbody><tr><td>59425</td><td>1</td><td>&quot;Orc&quot;</td><td>&quot;Rogue&quot;</td><td>&quot;Orgrimmar&quot;</td><td>165</td><td>2008-01-01 00:02:04</td></tr><tr><td>65494</td><td>9</td><td>&quot;Orc&quot;</td><td>&quot;Hunter&quot;</td><td>&quot;Durotar&quot;</td><td>-1</td><td>2008-01-01 00:02:04</td></tr><tr><td>65325</td><td>14</td><td>&quot;Orc&quot;</td><td>&quot;Warrior&quot;</td><td>&quot;Ghostlands&quot;</td><td>-1</td><td>2008-01-01 00:02:04</td></tr><tr><td>65490</td><td>18</td><td>&quot;Orc&quot;</td><td>&quot;Hunter&quot;</td><td>&quot;Ghostlands&quot;</td><td>-1</td><td>2008-01-01 00:02:04</td></tr><tr><td>2288</td><td>60</td><td>&quot;Orc&quot;</td><td>&quot;Hunter&quot;</td><td>&quot;Hellfire Penin…</td><td>-1</td><td>2008-01-01 00:02:09</td></tr><tr><td>2289</td><td>60</td><td>&quot;Orc&quot;</td><td>&quot;Hunter&quot;</td><td>&quot;Hellfire Penin…</td><td>-1</td><td>2008-01-01 00:02:09</td></tr><tr><td>61239</td><td>68</td><td>&quot;Orc&quot;</td><td>&quot;Hunter&quot;</td><td>&quot;Blade&#x27;s Edge M…</td><td>243</td><td>2008-01-01 00:02:14</td></tr><tr><td>59772</td><td>69</td><td>&quot;Orc&quot;</td><td>&quot;Warrior&quot;</td><td>&quot;Shadowmoon Val…</td><td>35</td><td>2008-01-01 00:02:14</td></tr><tr><td>22937</td><td>69</td><td>&quot;Orc&quot;</td><td>&quot;Rogue&quot;</td><td>&quot;Warsong Gulch&quot;</td><td>243</td><td>2008-01-01 00:02:14</td></tr><tr><td>23062</td><td>69</td><td>&quot;Orc&quot;</td><td>&quot;Shaman&quot;</td><td>&quot;Shattrath City…</td><td>103</td><td>2008-01-01 00:02:14</td></tr></tbody></table></div>"
      ],
      "text/plain": [
       "shape: (10, 7)\n",
       "┌───────┬───────┬──────┬───────────┬────────────────────────┬───────┬─────────────────────┐\n",
       "│ char  ┆ level ┆ race ┆ charclass ┆ zone                   ┆ guild ┆ timestamp           │\n",
       "│ ---   ┆ ---   ┆ ---  ┆ ---       ┆ ---                    ┆ ---   ┆ ---                 │\n",
       "│ i32   ┆ i32   ┆ str  ┆ str       ┆ str                    ┆ i32   ┆ datetime[μs]        │\n",
       "╞═══════╪═══════╪══════╪═══════════╪════════════════════════╪═══════╪═════════════════════╡\n",
       "│ 59425 ┆ 1     ┆ Orc  ┆ Rogue     ┆ Orgrimmar              ┆ 165   ┆ 2008-01-01 00:02:04 │\n",
       "│ 65494 ┆ 9     ┆ Orc  ┆ Hunter    ┆ Durotar                ┆ -1    ┆ 2008-01-01 00:02:04 │\n",
       "│ 65325 ┆ 14    ┆ Orc  ┆ Warrior   ┆ Ghostlands             ┆ -1    ┆ 2008-01-01 00:02:04 │\n",
       "│ 65490 ┆ 18    ┆ Orc  ┆ Hunter    ┆ Ghostlands             ┆ -1    ┆ 2008-01-01 00:02:04 │\n",
       "│ …     ┆ …     ┆ …    ┆ …         ┆ …                      ┆ …     ┆ …                   │\n",
       "│ 61239 ┆ 68    ┆ Orc  ┆ Hunter    ┆ Blade's Edge Mountains ┆ 243   ┆ 2008-01-01 00:02:14 │\n",
       "│ 59772 ┆ 69    ┆ Orc  ┆ Warrior   ┆ Shadowmoon Valley      ┆ 35    ┆ 2008-01-01 00:02:14 │\n",
       "│ 22937 ┆ 69    ┆ Orc  ┆ Rogue     ┆ Warsong Gulch          ┆ 243   ┆ 2008-01-01 00:02:14 │\n",
       "│ 23062 ┆ 69    ┆ Orc  ┆ Shaman    ┆ Shattrath City         ┆ 103   ┆ 2008-01-01 00:02:14 │\n",
       "└───────┴───────┴──────┴───────────┴────────────────────────┴───────┴─────────────────────┘"
      ]
     },
     "execution_count": 18,
     "metadata": {},
     "output_type": "execute_result"
    }
   ],
   "source": [
    "transactions_lazy_df.head(10).collect()"
   ]
  },
  {
   "cell_type": "code",
   "execution_count": 19,
   "id": "4af380c5-d530-4d01-9757-c68fd2838f10",
   "metadata": {
    "tags": []
   },
   "outputs": [
    {
     "name": "stdout",
     "output_type": "stream",
     "text": [
      "CPU times: user 4.07 s, sys: 404 ms, total: 4.47 s\n",
      "Wall time: 1.92 s\n"
     ]
    },
    {
     "data": {
      "text/html": [
       "<div><style>\n",
       ".dataframe > thead > tr > th,\n",
       ".dataframe > tbody > tr > td {\n",
       "  text-align: right;\n",
       "}\n",
       "</style>\n",
       "<small>shape: (1_123_327, 4)</small><table border=\"1\" class=\"dataframe\"><thead><tr><th>char</th><th>session_id</th><th>session_start_date</th><th>session_end_date</th></tr><tr><td>i32</td><td>u32</td><td>datetime[μs]</td><td>datetime[μs]</td></tr></thead><tbody><tr><td>2</td><td>0</td><td>2008-12-03 10:41:47</td><td>2008-12-03 10:41:47</td></tr><tr><td>7</td><td>0</td><td>2008-01-15 21:47:09</td><td>2008-01-16 00:26:56</td></tr><tr><td>7</td><td>1</td><td>2008-01-16 21:57:02</td><td>2008-01-17 01:16:49</td></tr><tr><td>7</td><td>2</td><td>2008-01-17 18:47:07</td><td>2008-01-18 00:07:32</td></tr><tr><td>7</td><td>3</td><td>2008-01-18 23:17:13</td><td>2008-01-19 01:47:16</td></tr><tr><td>7</td><td>4</td><td>2008-01-19 02:37:29</td><td>2008-01-19 02:47:13</td></tr><tr><td>7</td><td>5</td><td>2008-01-19 20:36:15</td><td>2008-01-19 23:46:28</td></tr><tr><td>7</td><td>6</td><td>2008-01-20 00:56:02</td><td>2008-01-20 04:36:29</td></tr><tr><td>7</td><td>7</td><td>2008-01-20 13:26:12</td><td>2008-01-20 15:55:57</td></tr><tr><td>7</td><td>8</td><td>2008-01-21 19:36:13</td><td>2008-01-22 00:46:11</td></tr><tr><td>7</td><td>9</td><td>2008-01-22 22:15:58</td><td>2008-01-22 23:55:58</td></tr><tr><td>7</td><td>10</td><td>2008-01-23 19:16:29</td><td>2008-01-23 22:16:13</td></tr><tr><td>&hellip;</td><td>&hellip;</td><td>&hellip;</td><td>&hellip;</td></tr><tr><td>90570</td><td>0</td><td>2008-12-31 19:48:49</td><td>2008-12-31 19:48:49</td></tr><tr><td>90571</td><td>0</td><td>2008-12-31 20:16:27</td><td>2008-12-31 20:16:27</td></tr><tr><td>90572</td><td>0</td><td>2008-12-31 20:18:10</td><td>2008-12-31 21:47:55</td></tr><tr><td>90572</td><td>1</td><td>2008-12-31 22:47:54</td><td>2008-12-31 23:48:36</td></tr><tr><td>90573</td><td>0</td><td>2008-12-31 20:31:18</td><td>2008-12-31 21:31:18</td></tr><tr><td>90574</td><td>0</td><td>2008-12-31 20:48:01</td><td>2008-12-31 20:48:01</td></tr><tr><td>90575</td><td>0</td><td>2008-12-31 20:59:51</td><td>2008-12-31 21:14:51</td></tr><tr><td>90576</td><td>0</td><td>2008-12-31 22:06:58</td><td>2008-12-31 23:07:13</td></tr><tr><td>90577</td><td>0</td><td>2008-12-31 22:17:35</td><td>2008-12-31 22:47:54</td></tr><tr><td>90578</td><td>0</td><td>2008-12-31 22:32:52</td><td>2008-12-31 22:32:52</td></tr><tr><td>90579</td><td>0</td><td>2008-12-31 22:44:45</td><td>2008-12-31 22:44:45</td></tr><tr><td>90580</td><td>0</td><td>2008-12-31 23:15:20</td><td>2008-12-31 23:15:20</td></tr></tbody></table></div>"
      ],
      "text/plain": [
       "shape: (1_123_327, 4)\n",
       "┌───────┬────────────┬─────────────────────┬─────────────────────┐\n",
       "│ char  ┆ session_id ┆ session_start_date  ┆ session_end_date    │\n",
       "│ ---   ┆ ---        ┆ ---                 ┆ ---                 │\n",
       "│ i32   ┆ u32        ┆ datetime[μs]        ┆ datetime[μs]        │\n",
       "╞═══════╪════════════╪═════════════════════╪═════════════════════╡\n",
       "│ 2     ┆ 0          ┆ 2008-12-03 10:41:47 ┆ 2008-12-03 10:41:47 │\n",
       "│ 7     ┆ 0          ┆ 2008-01-15 21:47:09 ┆ 2008-01-16 00:26:56 │\n",
       "│ 7     ┆ 1          ┆ 2008-01-16 21:57:02 ┆ 2008-01-17 01:16:49 │\n",
       "│ 7     ┆ 2          ┆ 2008-01-17 18:47:07 ┆ 2008-01-18 00:07:32 │\n",
       "│ …     ┆ …          ┆ …                   ┆ …                   │\n",
       "│ 90577 ┆ 0          ┆ 2008-12-31 22:17:35 ┆ 2008-12-31 22:47:54 │\n",
       "│ 90578 ┆ 0          ┆ 2008-12-31 22:32:52 ┆ 2008-12-31 22:32:52 │\n",
       "│ 90579 ┆ 0          ┆ 2008-12-31 22:44:45 ┆ 2008-12-31 22:44:45 │\n",
       "│ 90580 ┆ 0          ┆ 2008-12-31 23:15:20 ┆ 2008-12-31 23:15:20 │\n",
       "└───────┴────────────┴─────────────────────┴─────────────────────┘"
      ]
     },
     "execution_count": 19,
     "metadata": {},
     "output_type": "execute_result"
    }
   ],
   "source": [
    "def sessionize_pl(df, entity_col, date_col, threshold):\n",
    "    sessionized = (\n",
    "        df.sort([entity_col, date_col])\n",
    "        .with_columns(\n",
    "            [\n",
    "                (pl.col(date_col).diff().over(entity_col).dt.minutes() > threshold)\n",
    "                .fill_null(False)\n",
    "                .alias(\"is_new_session\"),\n",
    "            ]\n",
    "        )\n",
    "        .with_columns(\n",
    "            [\n",
    "                pl.col(\"is_new_session\").cumsum().over(entity_col).alias(\"session_id\"),\n",
    "            ]\n",
    "        )\n",
    "        .drop([\"is_new_session\"])\n",
    "    )\n",
    "    return sessionized\n",
    "\n",
    "def extract_sessions_pl(df, entity_col, date_col, session_col):\n",
    "    sessions = (\n",
    "        df.groupby([entity_col, session_col])\n",
    "        .agg(\n",
    "            [\n",
    "                pl.col(date_col).min().alias(\"session_start_date\"),\n",
    "                pl.col(date_col).max().alias(\"session_end_date\"),\n",
    "            ]\n",
    "        )\n",
    "        .sort([entity_col, \"session_start_date\"])\n",
    "    )\n",
    "    return sessions\n",
    "\n",
    "\n",
    "def preprocess_transactions_pl(df):\n",
    "    return (\n",
    "        df\n",
    "        .pipe(\n",
    "            sessionize_pl,\n",
    "            entity_col=\"char\",\n",
    "            date_col=\"timestamp\",\n",
    "            threshold=30,\n",
    "        )\n",
    "        .pipe(\n",
    "            extract_sessions_pl,\n",
    "            entity_col=\"char\",\n",
    "            date_col=\"timestamp\",\n",
    "            session_col=\"session_id\",\n",
    "        )\n",
    "    )\n",
    "\n",
    "\n",
    "%time sessions_collected = preprocess_transactions_pl(transactions_lazy_df).collect()\n",
    "sessions_collected"
   ]
  },
  {
   "cell_type": "code",
   "execution_count": 20,
   "id": "c6b0a698-56a2-47a6-8ec7-49fcd5ffda81",
   "metadata": {
    "tags": []
   },
   "outputs": [
    {
     "data": {
      "text/plain": [
       "(1123327, 4)"
      ]
     },
     "execution_count": 20,
     "metadata": {},
     "output_type": "execute_result"
    }
   ],
   "source": [
    "sessions_collected.shape"
   ]
  }
 ],
 "metadata": {
  "jupytext": {
   "formats": "ipynb,py:percent"
  },
  "kernelspec": {
   "display_name": "Python 3 (ipykernel)",
   "language": "python",
   "name": "python3"
  },
  "language_info": {
   "codemirror_mode": {
    "name": "ipython",
    "version": 3
   },
   "file_extension": ".py",
   "mimetype": "text/x-python",
   "name": "python",
   "nbconvert_exporter": "python",
   "pygments_lexer": "ipython3",
   "version": "3.11.3"
  }
 },
 "nbformat": 4,
 "nbformat_minor": 5
}
